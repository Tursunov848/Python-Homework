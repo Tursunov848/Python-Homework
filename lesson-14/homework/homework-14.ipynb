{
 "cells": [
  {
   "cell_type": "code",
   "execution_count": null,
   "id": "f2643e04",
   "metadata": {},
   "outputs": [
    {
     "name": "stdout",
     "output_type": "stream",
     "text": [
      "Student Details:\n",
      "Name: Ali\n",
      "Age: 20\n",
      "ID: 1\n",
      "Major: Business\n",
      "\n",
      "Student Details:\n",
      "Name: Vali\n",
      "Age: 22\n",
      "ID: 2\n",
      "Major: Economics\n",
      "\n"
     ]
    }
   ],
   "source": [
    "# Task 1 \n",
    "\n",
    "import json\n",
    "\n",
    "with open(\"students.json\", \"r\") as file:\n",
    "    students = json.load(file)\n",
    "\n",
    "for student in students:\n",
    "    print(\"Student Details:\")\n",
    "    print(\"Name:\", student[\"name\"])\n",
    "    print(\"Age:\", student[\"age\"])\n",
    "    print(\"ID:\", student[\"id\"])\n",
    "    print(\"Major:\", student[\"major\"])\n",
    "    print()\n"
   ]
  },
  {
   "cell_type": "code",
   "execution_count": null,
   "id": "63f3dd8c",
   "metadata": {},
   "outputs": [
    {
     "name": "stdout",
     "output_type": "stream",
     "text": [
      "Weather in Tashkent: Tashkent: ☀️   +26°C\n",
      "\n"
     ]
    }
   ],
   "source": [
    "# Task 2\n",
    "\n",
    "import requests\n",
    "\n",
    "city = \"Tashkent\"\n",
    "url = f\"https://wttr.in/{city}?format=3\"\n",
    "\n",
    "response = requests.get(url)\n",
    "\n",
    "if response.status_code == 200:\n",
    "    print(\"Weather in\", city + \":\", response.text)\n",
    "else:\n",
    "    print(\"Failed to get weather info\")\n"
   ]
  }
 ],
 "metadata": {
  "kernelspec": {
   "display_name": "Python 3",
   "language": "python",
   "name": "python3"
  },
  "language_info": {
   "codemirror_mode": {
    "name": "ipython",
    "version": 3
   },
   "file_extension": ".py",
   "mimetype": "text/x-python",
   "name": "python",
   "nbconvert_exporter": "python",
   "pygments_lexer": "ipython3",
   "version": "3.12.9"
  }
 },
 "nbformat": 4,
 "nbformat_minor": 5
}

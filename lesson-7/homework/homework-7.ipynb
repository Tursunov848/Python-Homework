{
 "cells": [
  {
   "cell_type": "code",
   "execution_count": null,
   "id": "207998fd",
   "metadata": {},
   "outputs": [],
   "source": [
    "# Task 1 - is_prime(n) funksiyasi\n",
    "\n",
    "def is_prime(n):\n",
    "    if n < 2:\n",
    "        return False\n",
    "    for i in range(2, int(n**0.5) + 1):  \n",
    "        if n % i == 0:\n",
    "            return False\n",
    "    return True\n"
   ]
  },
  {
   "cell_type": "code",
   "execution_count": 3,
   "id": "3d49b807",
   "metadata": {},
   "outputs": [
    {
     "data": {
      "text/plain": [
       "True"
      ]
     },
     "execution_count": 3,
     "metadata": {},
     "output_type": "execute_result"
    }
   ],
   "source": [
    "# Cheking task 1 result\n",
    "is_prime(7)\n"
   ]
  },
  {
   "cell_type": "code",
   "execution_count": 4,
   "id": "f9d53d8a",
   "metadata": {},
   "outputs": [],
   "source": [
    "# Task 2. digit_sum(k) funksiyasi\n",
    "\n",
    "def digit_sum(k):\n",
    "    return sum(int(digit) for digit in str(k))\n"
   ]
  },
  {
   "cell_type": "code",
   "execution_count": 6,
   "id": "18a73b83",
   "metadata": {},
   "outputs": [
    {
     "data": {
      "text/plain": [
       "7"
      ]
     },
     "execution_count": 6,
     "metadata": {},
     "output_type": "execute_result"
    }
   ],
   "source": [
    "# cheking task 2 result\n",
    "\n",
    "digit_sum(502)\n"
   ]
  },
  {
   "cell_type": "code",
   "execution_count": 7,
   "id": "1e5d4105",
   "metadata": {},
   "outputs": [],
   "source": [
    "# Task 3. Ikki sonning darajalari\n",
    "\n",
    "\n",
    "def print_powers_of_two(N):\n",
    "    power = 1\n",
    "    while True:\n",
    "        power *= 2\n",
    "        if power > N:\n",
    "            break\n",
    "        print(power, end=' ')\n"
   ]
  },
  {
   "cell_type": "code",
   "execution_count": 8,
   "id": "2f42aae6",
   "metadata": {},
   "outputs": [
    {
     "name": "stdout",
     "output_type": "stream",
     "text": [
      "2 4 8 "
     ]
    }
   ],
   "source": [
    "# Checking task 3 result\n",
    "\n",
    "print_powers_of_two(10)"
   ]
  }
 ],
 "metadata": {
  "kernelspec": {
   "display_name": "Python 3",
   "language": "python",
   "name": "python3"
  },
  "language_info": {
   "codemirror_mode": {
    "name": "ipython",
    "version": 3
   },
   "file_extension": ".py",
   "mimetype": "text/x-python",
   "name": "python",
   "nbconvert_exporter": "python",
   "pygments_lexer": "ipython3",
   "version": "3.12.9"
  }
 },
 "nbformat": 4,
 "nbformat_minor": 5
}

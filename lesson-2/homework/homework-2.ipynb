{
 "cells": [
  {
   "cell_type": "markdown",
   "id": "2623c712",
   "metadata": {},
   "source": [
    "### Homewrok-2 \n"
   ]
  },
  {
   "cell_type": "code",
   "execution_count": null,
   "id": "33bc85a1",
   "metadata": {},
   "outputs": [
    {
     "name": "stdout",
     "output_type": "stream",
     "text": [
      "Name: Abdumannof\n",
      "Age: 21.0\n"
     ]
    }
   ],
   "source": [
    "# Task 1 - Age Calculator\n",
    "\n",
    "Name = str(input(\"Enter you name: \"))\n",
    "Birth = float(input(\"Enter you year of birth: \"))\n",
    "from datetime import datetime\n",
    "current_year = datetime.now().year\n",
    "\n",
    "Age = current_year - Birth\n",
    "\n",
    "print('Name:', Name)\n",
    "print('Age:', Age)\n",
    "\n",
    "\n"
   ]
  },
  {
   "cell_type": "code",
   "execution_count": 26,
   "id": "c1016677",
   "metadata": {},
   "outputs": [
    {
     "name": "stdout",
     "output_type": "stream",
     "text": [
      "Lasetti\n",
      "Malibu\n"
     ]
    }
   ],
   "source": [
    "# Task 2 - Extract Car Names\n",
    "txt = 'LMaasleitbtui'\n",
    "\n",
    "print(txt[::2])\n",
    "print(txt[1::2])"
   ]
  },
  {
   "cell_type": "code",
   "execution_count": 31,
   "id": "86c02bbe",
   "metadata": {},
   "outputs": [
    {
     "name": "stdout",
     "output_type": "stream",
     "text": [
      "Damas\n",
      "Matiz\n"
     ]
    }
   ],
   "source": [
    "# Task 3 - Extract Car Names\n",
    "txt = 'MsaatmiazD'\n",
    "\n",
    "print(txt[::-2])\n",
    "print(txt[::2])"
   ]
  },
  {
   "cell_type": "code",
   "execution_count": null,
   "id": "9822c20d",
   "metadata": {},
   "outputs": [
    {
     "name": "stdout",
     "output_type": "stream",
     "text": [
      " London\n"
     ]
    }
   ],
   "source": [
    "# Task 4 - Extract Residence Area\n",
    "txt = \"I'am John. I am from London\"\n",
    "\n",
    "area = txt.split('from')[-1]\n",
    "print(area)"
   ]
  },
  {
   "cell_type": "code",
   "execution_count": null,
   "id": "0839fd44",
   "metadata": {},
   "outputs": [
    {
     "name": "stdout",
     "output_type": "stream",
     "text": [
      "olleH\n"
     ]
    }
   ],
   "source": [
    "# Task 5 - Reverse String\n",
    "\n",
    "txt = str(input(\"Enter text: \"))\n",
    "\n",
    "print(txt[::-1])\n"
   ]
  },
  {
   "cell_type": "code",
   "execution_count": null,
   "id": "44cc16c7",
   "metadata": {},
   "outputs": [
    {
     "name": "stdout",
     "output_type": "stream",
     "text": [
      "2\n"
     ]
    }
   ],
   "source": [
    "# Task 6 - Count Vowels\n",
    " \n",
    "txt = str(input(\"Enter text: \"))\n",
    "vowels = \"aeiouAEIOU\"\n",
    "count = 0\n",
    "\n",
    "for vw in txt:\n",
    "    if vw in vowels:\n",
    "        count += 1\n",
    "        \n",
    "print(count)"
   ]
  },
  {
   "cell_type": "code",
   "execution_count": null,
   "id": "e214a475",
   "metadata": {},
   "outputs": [
    {
     "name": "stdout",
     "output_type": "stream",
     "text": [
      "10\n"
     ]
    }
   ],
   "source": [
    "# Task 7 - Find Maximum Value\n",
    "\n",
    "number = (1, 5, 8, 10)\n",
    "\n",
    "print(max(number))\n",
    "\n"
   ]
  },
  {
   "cell_type": "code",
   "execution_count": 30,
   "id": "20bcbf1e",
   "metadata": {},
   "outputs": [
    {
     "name": "stdout",
     "output_type": "stream",
     "text": [
      "Yes\n"
     ]
    }
   ],
   "source": [
    "# Task 8 - Check Palindrome\n",
    "\n",
    "txt = 'Madam'\n",
    "check = txt.lower()\n",
    "\n",
    "if check == check[::-1]:\n",
    "      print('Yes')\n",
    "else: print('No')"
   ]
  },
  {
   "cell_type": "code",
   "execution_count": null,
   "id": "2cf48c39",
   "metadata": {},
   "outputs": [
    {
     "name": "stdout",
     "output_type": "stream",
     "text": [
      "gmail.com\n"
     ]
    }
   ],
   "source": [
    "# Task 9 - Extract Email Domain\n",
    "\n",
    "txt = str(input('Write your email: '))\n",
    "# print(txt.find('@'))\n",
    "email = txt.split('@')[1]\n",
    "print(email)\n"
   ]
  },
  {
   "cell_type": "code",
   "execution_count": 56,
   "id": "7b06871f",
   "metadata": {},
   "outputs": [
    {
     "name": "stdout",
     "output_type": "stream",
     "text": [
      "1>#xEq8<L1\n"
     ]
    }
   ],
   "source": [
    "# Task 10 - Generate Random Password\n",
    "\n",
    "import random\n",
    "import string\n",
    "\n",
    "def generate_password(length=10):\n",
    "    characters = string.printable\n",
    "    password = ''.join(random.choices(characters, k=length))\n",
    "    return password\n",
    "\n",
    "print(generate_password())\n"
   ]
  }
 ],
 "metadata": {
  "kernelspec": {
   "display_name": "Python 3",
   "language": "python",
   "name": "python3"
  },
  "language_info": {
   "codemirror_mode": {
    "name": "ipython",
    "version": 3
   },
   "file_extension": ".py",
   "mimetype": "text/x-python",
   "name": "python",
   "nbconvert_exporter": "python",
   "pygments_lexer": "ipython3",
   "version": "3.12.9"
  }
 },
 "nbformat": 4,
 "nbformat_minor": 5
}

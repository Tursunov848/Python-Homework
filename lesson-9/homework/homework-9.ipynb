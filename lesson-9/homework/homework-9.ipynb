{
 "cells": [
  {
   "cell_type": "code",
   "execution_count": 3,
   "id": "ca6da19c",
   "metadata": {},
   "outputs": [
    {
     "name": "stdout",
     "output_type": "stream",
     "text": [
      "Area of the circle: 78.54\n",
      "Perimeter of the circle: 31.42\n"
     ]
    }
   ],
   "source": [
    "# 1. Circle Class\n",
    "# Write a Python program to create a class representing a Circle. Include methods to calculate its area and perimeter.\n",
    "\n",
    "import math\n",
    "\n",
    "class Circle:\n",
    "    def __init__(self, radius):\n",
    "        self.radius = radius\n",
    "\n",
    "    def area(self):\n",
    "        return math.pi * self.radius ** 2\n",
    "\n",
    "    def perimeter(self):\n",
    "        return 2 * math.pi * self.radius\n",
    "\n",
    "if __name__ == \"__main__\":\n",
    "    r = float(input(\"Enter the radius of the circle: \"))\n",
    "    circle = Circle(r)\n",
    "    \n",
    "    print(f\"Area of the circle: {circle.area():.2f}\")\n",
    "    print(f\"Perimeter of the circle: {circle.perimeter():.2f}\")\n",
    "\n",
    "        "
   ]
  },
  {
   "cell_type": "code",
   "execution_count": 18,
   "id": "3fb97f05",
   "metadata": {},
   "outputs": [],
   "source": [
    "# 2. Person Class\n",
    "# Write a Python program to create a Person class. Include attributes like name, country, and date of birth. Implement a method to determine the person's age.\n",
    "\n",
    "from datetime import datetime\n",
    "\n",
    "class Person:\n",
    "    def __init__(self, name, country, birth_year):\n",
    "        self.name = name\n",
    "        self.country = country\n",
    "        self.birth_year = birth_year\n",
    "    \n",
    "    def __repr__(self):\n",
    "        return (f'({self.name}, {self.country}, {self.birth_year}') \n",
    "    \n",
    "    def age_calculator(self):\n",
    "        current_year = datetime.today().year\n",
    "        return current_year - self.birth_year\n",
    "\n"
   ]
  },
  {
   "cell_type": "code",
   "execution_count": 22,
   "id": "ddc750a8",
   "metadata": {},
   "outputs": [
    {
     "data": {
      "text/plain": [
       "125"
      ]
     },
     "execution_count": 22,
     "metadata": {},
     "output_type": "execute_result"
    }
   ],
   "source": [
    "person = Person(\"Abdumannof\", \"Uzbekistan\", 1900)\n",
    "person.age_calculator()\n"
   ]
  },
  {
   "cell_type": "code",
   "execution_count": 23,
   "id": "bff056e4",
   "metadata": {},
   "outputs": [],
   "source": [
    "# 3. Calculator Class\n",
    "# Write a Python program to create a Calculator class. Include methods for basic arithmetic operations.\n",
    "\n",
    "class Calculator:\n",
    "    def __init__(self, a, b):\n",
    "        self.a = a\n",
    "        self.b = b\n",
    "\n",
    "    def add(self):\n",
    "        return self.a + self.b\n",
    "\n",
    "    def subtract(self):\n",
    "        return self.a - self.b\n",
    "\n",
    "    def multiply(self):\n",
    "        return self.a * self.b\n",
    "\n",
    "    def divide(self):\n",
    "        if self.b == 0:\n",
    "            return \"Error: Division by zero\"\n",
    "        return self.a / self.b\n",
    "\n"
   ]
  },
  {
   "cell_type": "code",
   "execution_count": 24,
   "id": "59bcdc98",
   "metadata": {},
   "outputs": [
    {
     "name": "stdout",
     "output_type": "stream",
     "text": [
      "Addition: 16\n",
      "Subtraction: 8\n",
      "Multiplication: 48\n",
      "Division: 3.0\n"
     ]
    }
   ],
   "source": [
    "calc = Calculator(12, 4)\n",
    "print(f\"Addition: {calc.add()}\")\n",
    "print(f\"Subtraction: {calc.subtract()}\")\n",
    "print(f\"Multiplication: {calc.multiply()}\")\n",
    "print(f\"Division: {calc.divide()}\")"
   ]
  },
  {
   "cell_type": "code",
   "execution_count": 25,
   "id": "57696128",
   "metadata": {},
   "outputs": [],
   "source": [
    "# 4. Shape and Subclasses\n",
    "# Write a Python program to create a class that represents a shape. Include methods to calculate its area and perimeter. Implement subclasses for different shapes like Circle, Triangle, and Square.\n",
    "\n",
    "import math\n",
    "\n",
    "class Shape:\n",
    "    def area(self):\n",
    "        raise NotImplementedError\n",
    "\n",
    "    def perimeter(self):\n",
    "        raise NotImplementedError\n",
    "\n",
    "class Circle(Shape):\n",
    "    def __init__(self, radius):\n",
    "        self.radius = radius\n",
    "\n",
    "    def area(self):\n",
    "        return round(math.pi * self.radius ** 2, 2)\n",
    "\n",
    "    def perimeter(self):\n",
    "        return round(2 * math.pi * self.radius, 2)\n",
    "\n",
    "class Triangle(Shape):\n",
    "    def __init__(self, a, b, c):\n",
    "        self.a = a\n",
    "        self.b = b\n",
    "        self.c = c\n",
    "\n",
    "    def perimeter(self):\n",
    "        return self.a + self.b + self.c\n",
    "\n",
    "    def area(self):\n",
    "        s = self.perimeter() / 2\n",
    "        return round(math.sqrt(s * (s - self.a) * (s - self.b) * (s - self.c)), 2)\n",
    "\n",
    "class Square(Shape):\n",
    "    def __init__(self, side):\n",
    "        self.side = side\n",
    "\n",
    "    def area(self):\n",
    "        return self.side ** 2\n",
    "\n",
    "    def perimeter(self):\n",
    "        return 4 * self.side\n",
    "\n"
   ]
  },
  {
   "cell_type": "code",
   "execution_count": 26,
   "id": "742f652a",
   "metadata": {},
   "outputs": [
    {
     "name": "stdout",
     "output_type": "stream",
     "text": [
      "Circle: Area = 78.54 | Perimeter = 31.42\n",
      "Triangle: Area = 6.0 | Perimeter = 12\n",
      "Square: Area = 36 | Perimeter = 24\n"
     ]
    }
   ],
   "source": [
    "circle = Circle(5)\n",
    "triangle = Triangle(3, 4, 5)\n",
    "square = Square(6)\n",
    "\n",
    "print(\"Circle:\", \"Area =\", circle.area(), \"| Perimeter =\", circle.perimeter())\n",
    "print(\"Triangle:\", \"Area =\", triangle.area(), \"| Perimeter =\", triangle.perimeter())\n",
    "print(\"Square:\", \"Area =\", square.area(), \"| Perimeter =\", square.perimeter())\n"
   ]
  },
  {
   "cell_type": "code",
   "execution_count": 27,
   "id": "eac750f8",
   "metadata": {},
   "outputs": [],
   "source": [
    "# 5. Binary Search Tree Class\n",
    "# Write a Python program to create a class representing a binary search tree. Include methods for inserting and searching for elements in the binary tree.\n",
    "\n",
    "class Node:\n",
    "    def __init__(self, value):\n",
    "        self.value = value\n",
    "        self.left = None\n",
    "        self.right = None\n",
    "\n",
    "\n",
    "class BinarySearchTree:\n",
    "    def __init__(self):\n",
    "        self.root = None\n",
    "\n",
    "    def insert(self, value):\n",
    "        if self.root is None:\n",
    "            self.root = Node(value)\n",
    "        else:\n",
    "            self._insert_recursive(self.root, value)\n",
    "\n",
    "    def _insert_recursive(self, current, value):\n",
    "        if value < current.value:\n",
    "            if current.left is None:\n",
    "                current.left = Node(value)\n",
    "            else:\n",
    "                self._insert_recursive(current.left, value)\n",
    "        elif value > current.value:\n",
    "            if current.right is None:\n",
    "                current.right = Node(value)\n",
    "            else:\n",
    "                self._insert_recursive(current.right, value)\n",
    "\n",
    "    def search(self, value):\n",
    "        return self._search_recursive(self.root, value)\n",
    "\n",
    "    def _search_recursive(self, current, value):\n",
    "        if current is None:\n",
    "            return False\n",
    "        if value == current.value:\n",
    "            return True\n",
    "        elif value < current.value:\n",
    "            return self._search_recursive(current.left, value)\n",
    "        else:\n",
    "            return self._search_recursive(current.right, value)\n",
    "\n",
    "\n",
    "\n"
   ]
  },
  {
   "cell_type": "code",
   "execution_count": null,
   "id": "06cd13f9",
   "metadata": {},
   "outputs": [
    {
     "name": "stdout",
     "output_type": "stream",
     "text": [
      "Search 40: True\n",
      "Search 90: False\n"
     ]
    }
   ],
   "source": [
    "bst = BinarySearchTree()\n",
    "for num in [50, 30, 70, 20, 40, 60, 80]:\n",
    "    bst.insert(num)\n",
    "\n",
    "print(\"Search 40:\", bst.search(40))  \n",
    "print(\"Search 90:\", bst.search(90))  "
   ]
  },
  {
   "cell_type": "code",
   "execution_count": 1,
   "id": "47f5e506",
   "metadata": {},
   "outputs": [],
   "source": [
    "# 6. Stack Data Structure\n",
    "# Write a Python program to create a class representing a stack data structure. Include methods for pushing and popping elements.\n",
    "\n",
    "class Stack:\n",
    "    def __init__(self):\n",
    "        self.items = []\n",
    "\n",
    "    def push(self, item):\n",
    "        self.items.append(item)\n",
    "\n",
    "    def pop(self):\n",
    "        if not self.is_empty():\n",
    "            return self.items.pop()\n",
    "        return None\n",
    "\n",
    "    def peek(self):\n",
    "        if not self.is_empty():\n",
    "            return self.items[-1]\n",
    "        return None\n",
    "\n",
    "    def is_empty(self):\n",
    "        return len(self.items) == 0\n",
    "\n",
    "    def size(self):\n",
    "        return len(self.items)\n",
    "\n",
    "\n",
    "     \n"
   ]
  },
  {
   "cell_type": "code",
   "execution_count": 2,
   "id": "52e84831",
   "metadata": {},
   "outputs": [
    {
     "name": "stdout",
     "output_type": "stream",
     "text": [
      "Top item: 30\n",
      "Popped: 30\n",
      "Is empty: False\n",
      "Stack size: 2\n"
     ]
    }
   ],
   "source": [
    "stack = Stack()\n",
    "stack.push(10)\n",
    "stack.push(20)\n",
    "stack.push(30)\n",
    "\n",
    "print(\"Top item:\", stack.peek())        \n",
    "print(\"Popped:\", stack.pop())           \n",
    "print(\"Is empty:\", stack.is_empty())    \n",
    "print(\"Stack size:\", stack.size()) "
   ]
  },
  {
   "cell_type": "code",
   "execution_count": 3,
   "id": "578399ff",
   "metadata": {},
   "outputs": [],
   "source": [
    "# Linked List Data Structure\n",
    "# Write a Python program to create a class representing a linked list data structure. Include methods for displaying linked list data, inserting, and deleting nodes.\n",
    "\n",
    "class Node:\n",
    "    def __init__(self, data):\n",
    "        self.data = data\n",
    "        self.next = None\n",
    "\n",
    "\n",
    "class LinkedList:\n",
    "    def __init__(self):\n",
    "        self.head = None\n",
    "\n",
    "    def insert(self, data):\n",
    "        new_node = Node(data)\n",
    "        if not self.head:\n",
    "            self.head = new_node\n",
    "            return\n",
    "        current = self.head\n",
    "        while current.next:\n",
    "            current = current.next\n",
    "        current.next = new_node\n",
    "\n",
    "    def delete(self, data):\n",
    "        current = self.head\n",
    "        prev = None\n",
    "\n",
    "        while current:\n",
    "            if current.data == data:\n",
    "                if prev:\n",
    "                    prev.next = current.next\n",
    "                else:\n",
    "                    self.head = current.next\n",
    "                return True  # Data found and deleted\n",
    "            prev = current\n",
    "            current = current.next\n",
    "\n",
    "        return False  # Data not found\n",
    "\n",
    "    def display(self):\n",
    "        current = self.head\n",
    "        elements = []\n",
    "        while current:\n",
    "            elements.append(str(current.data))\n",
    "            current = current.next\n",
    "        print(\" → \".join(elements) if elements else \"Empty list\")\n",
    "\n",
    "\n",
    "\n"
   ]
  },
  {
   "cell_type": "code",
   "execution_count": null,
   "id": "f33c6c56",
   "metadata": {},
   "outputs": [
    {
     "name": "stdout",
     "output_type": "stream",
     "text": [
      "Initial list:\n",
      "10 → 20 → 30\n",
      "After deleting 20:\n",
      "10 → 30\n",
      "After trying to delete 100:\n",
      "10 → 30\n"
     ]
    }
   ],
   "source": [
    "ll = LinkedList()\n",
    "ll.insert(10)\n",
    "ll.insert(20)\n",
    "ll.insert(30)\n",
    "\n",
    "print(\"Initial list:\")\n",
    "ll.display()\n",
    "\n",
    "ll.delete(20)\n",
    "print(\"After deleting 20:\")\n",
    "ll.display()\n",
    "\n",
    "ll.delete(100)  \n",
    "print(\"After trying to delete 100:\")\n",
    "ll.display()"
   ]
  },
  {
   "cell_type": "code",
   "execution_count": null,
   "id": "edc5e15b",
   "metadata": {},
   "outputs": [],
   "source": [
    "# 8. Shopping Cart Class\n",
    "# Write a Python program to create a class representing a shopping cart. Include methods for adding and removing items, and calculating the total price."
   ]
  },
  {
   "cell_type": "code",
   "execution_count": 5,
   "id": "45d9bbe7",
   "metadata": {},
   "outputs": [],
   "source": [
    "# 8. Shopping Cart Class\n",
    "# Write a Python program to create a class representing a shopping cart. Include methods for adding and removing items, and calculating the total price.\n",
    "\n",
    "class ShoppingCart:\n",
    "    def __init__(self):\n",
    "        self.items = {}\n",
    "\n",
    "    def add_item(self, name, price, quantity=1):\n",
    "        if name in self.items:\n",
    "            self.items[name]['quantity'] += quantity\n",
    "        else:\n",
    "            self.items[name] = {'price': price, 'quantity': quantity}\n",
    "\n",
    "    def remove_item(self, name):\n",
    "        if name in self.items:\n",
    "            del self.items[name]\n",
    "        else:\n",
    "            print(f\"{name} not found in the cart.\")\n",
    "\n",
    "    def get_total(self):\n",
    "        return sum(item['price'] * item['quantity'] for item in self.items.values())\n",
    "\n",
    "    def show_cart(self):\n",
    "        if not self.items:\n",
    "            print(\"Cart is empty.\")\n",
    "            return\n",
    "        for name, data in self.items.items():\n",
    "            print(f\"{name}: ${data['price']} × {data['quantity']}\")\n",
    "        print(f\"Total: ${self.get_total():.2f}\")\n",
    "\n",
    "\n"
   ]
  },
  {
   "cell_type": "code",
   "execution_count": 6,
   "id": "93556c51",
   "metadata": {},
   "outputs": [
    {
     "name": "stdout",
     "output_type": "stream",
     "text": [
      "Apple: $0.99 × 3\n",
      "Bread: $2.5 × 2\n",
      "Milk: $1.75 × 1\n",
      "Total: $9.72\n",
      "\n",
      "After removing Bread:\n",
      "Apple: $0.99 × 3\n",
      "Milk: $1.75 × 1\n",
      "Total: $4.72\n"
     ]
    }
   ],
   "source": [
    "cart = ShoppingCart()\n",
    "cart.add_item(\"Apple\", 0.99, 3)\n",
    "cart.add_item(\"Bread\", 2.50, 2)\n",
    "cart.add_item(\"Milk\", 1.75)\n",
    "\n",
    "cart.show_cart()\n",
    "\n",
    "cart.remove_item(\"Bread\")\n",
    "print(\"\\nAfter removing Bread:\")\n",
    "cart.show_cart()"
   ]
  },
  {
   "cell_type": "code",
   "execution_count": 7,
   "id": "4131606b",
   "metadata": {},
   "outputs": [],
   "source": [
    "# 9. Stack with Display\n",
    "# Write a Python program to create a class representing a stack data structure. Include methods for pushing, popping, and displaying elements.\n",
    "\n",
    "class Stack:\n",
    "    def __init__(self):\n",
    "        self.items = []\n",
    "\n",
    "    def push(self, item):\n",
    "        self.items.append(item)\n",
    "\n",
    "    def pop(self):\n",
    "        if not self.is_empty():\n",
    "            return self.items.pop()\n",
    "        return None\n",
    "\n",
    "    def display(self):\n",
    "        if self.is_empty():\n",
    "            print(\"Stack is empty.\")\n",
    "        else:\n",
    "            print(\"Stack (top → bottom):\")\n",
    "            for item in reversed(self.items):\n",
    "                print(item)\n",
    "\n",
    "    def is_empty(self):\n",
    "        return len(self.items) == 0\n",
    "\n"
   ]
  },
  {
   "cell_type": "code",
   "execution_count": 8,
   "id": "dcdb30e6",
   "metadata": {},
   "outputs": [
    {
     "name": "stdout",
     "output_type": "stream",
     "text": [
      "Stack (top → bottom):\n",
      "30\n",
      "20\n",
      "10\n",
      "\n",
      "Popped: 30\n",
      "\n",
      "After popping one item:\n",
      "Stack (top → bottom):\n",
      "20\n",
      "10\n"
     ]
    }
   ],
   "source": [
    "stack = Stack()\n",
    "stack.push(10)\n",
    "stack.push(20)\n",
    "stack.push(30)\n",
    "\n",
    "stack.display()\n",
    "\n",
    "print(\"\\nPopped:\", stack.pop())\n",
    "\n",
    "print(\"\\nAfter popping one item:\")\n",
    "stack.display()"
   ]
  },
  {
   "cell_type": "code",
   "execution_count": 9,
   "id": "ee2e24a5",
   "metadata": {},
   "outputs": [],
   "source": [
    "# 10. Queue Data Structure\n",
    "# Write a Python program to create a class representing a queue data structure. Include methods for enqueueing and dequeueing elements.\n",
    "\n",
    "class Queue:\n",
    "    def __init__(self):\n",
    "        self.items = []\n",
    "\n",
    "    def enqueue(self, item):\n",
    "        self.items.append(item)\n",
    "\n",
    "    def dequeue(self):\n",
    "        if not self.is_empty():\n",
    "            return self.items.pop(0)\n",
    "        return None\n",
    "\n",
    "    def display(self):\n",
    "        if self.is_empty():\n",
    "            print(\"Queue is empty.\")\n",
    "        else:\n",
    "            print(\"Queue (front → back):\")\n",
    "            for item in self.items:\n",
    "                print(item)\n",
    "\n",
    "    def is_empty(self):\n",
    "        return len(self.items) == 0\n",
    "\n"
   ]
  },
  {
   "cell_type": "code",
   "execution_count": 10,
   "id": "fed1e7ec",
   "metadata": {},
   "outputs": [
    {
     "name": "stdout",
     "output_type": "stream",
     "text": [
      "Queue (front → back):\n",
      "Alice\n",
      "Bob\n",
      "Charlie\n",
      "\n",
      "Dequeued: Alice\n",
      "\n",
      "After dequeuing one element:\n",
      "Queue (front → back):\n",
      "Bob\n",
      "Charlie\n"
     ]
    }
   ],
   "source": [
    "queue = Queue()\n",
    "queue.enqueue(\"Alice\")\n",
    "queue.enqueue(\"Bob\")\n",
    "queue.enqueue(\"Charlie\")\n",
    "\n",
    "queue.display()\n",
    "\n",
    "print(\"\\nDequeued:\", queue.dequeue())\n",
    "\n",
    "print(\"\\nAfter dequeuing one element:\")\n",
    "queue.display()"
   ]
  },
  {
   "cell_type": "code",
   "execution_count": 11,
   "id": "b90ad72a",
   "metadata": {},
   "outputs": [],
   "source": [
    "# 11. Bank Class\n",
    "# Write a Python program to create a class representing a bank. Include methods for managing customer accounts and transactions.\n",
    "\n",
    "class Account:\n",
    "    def __init__(self, name, account_number, balance=0):\n",
    "        self.name = name\n",
    "        self.account_number = account_number\n",
    "        self.balance = balance\n",
    "\n",
    "    def deposit(self, amount):\n",
    "        if amount > 0:\n",
    "            self.balance += amount\n",
    "            print(f\"${amount} deposited. New balance: ${self.balance}\")\n",
    "        else:\n",
    "            print(\"Deposit amount must be positive.\")\n",
    "\n",
    "    def withdraw(self, amount):\n",
    "        if amount > self.balance:\n",
    "            print(\"Insufficient funds.\")\n",
    "        elif amount <= 0:\n",
    "            print(\"Withdrawal amount must be positive.\")\n",
    "        else:\n",
    "            self.balance -= amount\n",
    "            print(f\"${amount} withdrawn. New balance: ${self.balance}\")\n",
    "\n",
    "    def show_balance(self):\n",
    "        print(f\"Account: {self.account_number}, Balance: ${self.balance}\")\n",
    "\n",
    "\n",
    "class Bank:\n",
    "    def __init__(self):\n",
    "        self.accounts = {}\n",
    "\n",
    "    def create_account(self, name, account_number, initial_balance=0):\n",
    "        if account_number in self.accounts:\n",
    "            print(\"Account number already exists.\")\n",
    "        else:\n",
    "            self.accounts[account_number] = Account(name, account_number, initial_balance)\n",
    "            print(f\"Account created for {name} (#{account_number})\")\n",
    "\n",
    "    def deposit(self, account_number, amount):\n",
    "        account = self.accounts.get(account_number)\n",
    "        if account:\n",
    "            account.deposit(amount)\n",
    "        else:\n",
    "            print(\"Account not found.\")\n",
    "\n",
    "    def withdraw(self, account_number, amount):\n",
    "        account = self.accounts.get(account_number)\n",
    "        if account:\n",
    "            account.withdraw(amount)\n",
    "        else:\n",
    "            print(\"Account not found.\")\n",
    "\n",
    "    def show_all_accounts(self):\n",
    "        if not self.accounts:\n",
    "            print(\"No accounts available.\")\n",
    "        else:\n",
    "            print(\"All Bank Accounts:\")\n",
    "            for acc in self.accounts.values():\n",
    "                print(f\"{acc.name} (#{acc.account_number}) - Balance: ${acc.balance}\")\n",
    "\n",
    "\n"
   ]
  },
  {
   "cell_type": "code",
   "execution_count": 12,
   "id": "5b3a27f6",
   "metadata": {},
   "outputs": [
    {
     "name": "stdout",
     "output_type": "stream",
     "text": [
      "Account created for Alice (#1001)\n",
      "Account created for Bob (#1002)\n",
      "$200 deposited. New balance: $700\n",
      "Insufficient funds.\n",
      "$100 withdrawn. New balance: $600\n",
      "\n",
      "All accounts:\n",
      "All Bank Accounts:\n",
      "Alice (#1001) - Balance: $600\n",
      "Bob (#1002) - Balance: $0\n"
     ]
    }
   ],
   "source": [
    "bank = Bank()\n",
    "bank.create_account(\"Alice\", 1001, 500)\n",
    "bank.create_account(\"Bob\", 1002)\n",
    "\n",
    "bank.deposit(1001, 200)\n",
    "bank.withdraw(1002, 50)\n",
    "bank.withdraw(1001, 100)\n",
    "\n",
    "print(\"\\nAll accounts:\")\n",
    "bank.show_all_accounts()"
   ]
  }
 ],
 "metadata": {
  "kernelspec": {
   "display_name": "Python 3",
   "language": "python",
   "name": "python3"
  },
  "language_info": {
   "codemirror_mode": {
    "name": "ipython",
    "version": 3
   },
   "file_extension": ".py",
   "mimetype": "text/x-python",
   "name": "python",
   "nbconvert_exporter": "python",
   "pygments_lexer": "ipython3",
   "version": "3.12.9"
  }
 },
 "nbformat": 4,
 "nbformat_minor": 5
}

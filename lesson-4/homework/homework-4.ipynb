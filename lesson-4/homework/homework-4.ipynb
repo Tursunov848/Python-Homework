{
 "cells": [
  {
   "cell_type": "markdown",
   "id": "2b94fbc1",
   "metadata": {},
   "source": [
    "### Homework-4"
   ]
  },
  {
   "cell_type": "markdown",
   "id": "a609c55e",
   "metadata": {},
   "source": [
    "#### Dictionary Exercises\n"
   ]
  },
  {
   "cell_type": "code",
   "execution_count": null,
   "id": "03f4234b",
   "metadata": {},
   "outputs": [
    {
     "name": "stdout",
     "output_type": "stream",
     "text": [
      "{'b': 1, 'c': 2, 'a': 3}\n",
      "{'a': 3, 'c': 2, 'b': 1}\n"
     ]
    }
   ],
   "source": [
    "# Task 1 - Sort a Dictionary by Value\n",
    "\n",
    "dict1 = {'a': 3, 'b': 1, 'c': 2}\n",
    "\n",
    "sorted_asc = dict(sorted(dict1.items(), key=lambda item: item[1]))\n",
    "print(sorted_asc)\n",
    "\n",
    "sorted_desc = dict(sorted(dict1.items(), key=lambda item: item[1], reverse=True))\n",
    "print(sorted_desc)\n"
   ]
  },
  {
   "cell_type": "code",
   "execution_count": null,
   "id": "dfaefe9f",
   "metadata": {},
   "outputs": [
    {
     "name": "stdout",
     "output_type": "stream",
     "text": [
      "{0: 10, 1: 20, 2: 30}\n"
     ]
    }
   ],
   "source": [
    "# Task 2 - Add a Key to a Dictionary\n",
    "\n",
    "dict_num = {0: 10, 1: 20}\n",
    "dict_num.update({2: 30})\n",
    "print(dict_num)\n"
   ]
  },
  {
   "cell_type": "code",
   "execution_count": null,
   "id": "61232e2d",
   "metadata": {},
   "outputs": [
    {
     "name": "stdout",
     "output_type": "stream",
     "text": [
      "{1: 10, 2: 20, 3: 30, 4: 40, 5: 50, 6: 60}\n"
     ]
    }
   ],
   "source": [
    "# Task 3. Concatenate Multiple Dictionaries\n",
    "\n",
    "dic1 = {1: 10, 2: 20}\n",
    "dic2 = {3: 30, 4: 40}\n",
    "dic3 = {5: 50, 6: 60}\n",
    "\n",
    "print(dic1 | dic2 | dic3)\n"
   ]
  },
  {
   "cell_type": "code",
   "execution_count": 24,
   "id": "7a805d19",
   "metadata": {},
   "outputs": [
    {
     "name": "stdout",
     "output_type": "stream",
     "text": [
      "{1: 1, 2: 4, 3: 9, 4: 16, 5: 25}\n"
     ]
    }
   ],
   "source": [
    "# Task 4. Generate a Dictionary with Squares\n",
    "n = 5\n",
    "dict_nums = {x: x*x for x in range(1, n+1)}\n",
    "print(dict_nums)\n",
    "\n"
   ]
  },
  {
   "cell_type": "code",
   "execution_count": 25,
   "id": "a3109def",
   "metadata": {},
   "outputs": [
    {
     "name": "stdout",
     "output_type": "stream",
     "text": [
      "{1: 1, 2: 4, 3: 9, 4: 16, 5: 25, 6: 36, 7: 49, 8: 64, 9: 81, 10: 100, 11: 121, 12: 144, 13: 169, 14: 196, 15: 225}\n"
     ]
    }
   ],
   "source": [
    "# Task 5. Dictionary of Squares (1 to 15)\n",
    "squares_dict_15 = {x: x**2 for x in range(1, 16)}\n",
    "print(squares_dict_15)\n",
    "\n"
   ]
  },
  {
   "cell_type": "markdown",
   "id": "147a721d",
   "metadata": {},
   "source": [
    "### Set series\n"
   ]
  },
  {
   "cell_type": "code",
   "execution_count": 26,
   "id": "60b6f6cc",
   "metadata": {},
   "outputs": [
    {
     "name": "stdout",
     "output_type": "stream",
     "text": [
      "{1, 2, 3}\n"
     ]
    }
   ],
   "source": [
    "# Task 1. Create a Set\n",
    "\n",
    "a = {1, 2, 3}\n",
    "print(a)\n",
    "\n"
   ]
  },
  {
   "cell_type": "code",
   "execution_count": null,
   "id": "f4dfc2bd",
   "metadata": {},
   "outputs": [
    {
     "name": "stdout",
     "output_type": "stream",
     "text": [
      "Hello\n",
      "By by\n",
      "Hi\n"
     ]
    }
   ],
   "source": [
    "# Task 2. Iterate Over a Set\n",
    "\n",
    "set1 = {'Hello', 'Hi', 'By by'}\n",
    "\n",
    "for sets in set1:\n",
    "    print(sets)\n",
    "\n"
   ]
  },
  {
   "cell_type": "code",
   "execution_count": 46,
   "id": "e5e7ad1b",
   "metadata": {},
   "outputs": [
    {
     "name": "stdout",
     "output_type": "stream",
     "text": [
      "{1, 2, 3, 4}\n"
     ]
    }
   ],
   "source": [
    "# Task 3. Add Member(s) to a Set\n",
    "\n",
    "set2 = {1, 2, 3}\n",
    "set2.add(4)\n",
    "print(set1)"
   ]
  },
  {
   "cell_type": "code",
   "execution_count": null,
   "id": "621f0f0c",
   "metadata": {},
   "outputs": [
    {
     "name": "stdout",
     "output_type": "stream",
     "text": [
      "{1, 2}\n"
     ]
    }
   ],
   "source": [
    "# Task 4. Remove Item(s) from a Set\n",
    "\n",
    "set3 = {1, 2, 3}\n",
    "set3.remove(3)\n",
    "print(set3)"
   ]
  },
  {
   "cell_type": "code",
   "execution_count": null,
   "id": "cc209322",
   "metadata": {},
   "outputs": [
    {
     "name": "stdout",
     "output_type": "stream",
     "text": [
      "Successfully removed\n"
     ]
    }
   ],
   "source": [
    "# Task 5. Remove an Item if Present in the Set\n",
    "\n",
    "\n",
    "set4 = {1, 2, 3}\n",
    "\n",
    "if 3 in set4:\n",
    "    set4.remove(3)\n",
    "    print('Successfully removed')\n",
    "else: \n",
    "    print('Doesnt presenet')\n",
    " \n"
   ]
  }
 ],
 "metadata": {
  "kernelspec": {
   "display_name": "Python 3",
   "language": "python",
   "name": "python3"
  },
  "language_info": {
   "codemirror_mode": {
    "name": "ipython",
    "version": 3
   },
   "file_extension": ".py",
   "mimetype": "text/x-python",
   "name": "python",
   "nbconvert_exporter": "python",
   "pygments_lexer": "ipython3",
   "version": "3.12.9"
  }
 },
 "nbformat": 4,
 "nbformat_minor": 5
}

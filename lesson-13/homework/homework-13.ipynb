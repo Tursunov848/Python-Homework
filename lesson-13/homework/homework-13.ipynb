{
 "cells": [
  {
   "cell_type": "code",
   "execution_count": null,
   "id": "eb83b92c",
   "metadata": {},
   "outputs": [
    {
     "name": "stdout",
     "output_type": "stream",
     "text": [
      "You are 21 years, 2 months, and 14 days old.\n"
     ]
    }
   ],
   "source": [
    "# Task 1 - Age Calculator: Ask the user to enter their birthdate. Calculate and print their age in years, months, and days.\n",
    "\n",
    "from datetime import date\n",
    "\n",
    "year = int(input(\"Enter your birth year (e.g., 2000): \"))\n",
    "month = int(input(\"Enter your birth month (1-12): \"))\n",
    "day = int(input(\"Enter your birth day (1-31): \"))\n",
    "\n",
    "today = date.today()\n",
    "birthdate = date(year, month, day)\n",
    "\n",
    "age_in_days = (today - birthdate).days\n",
    "\n",
    "years = age_in_days // 365\n",
    "remaining_days = age_in_days % 365\n",
    "months = remaining_days // 30\n",
    "days = remaining_days % 30\n",
    "\n",
    "print(f\"You are {years} years, {months} months, and {days} days old.\")\n"
   ]
  },
  {
   "cell_type": "code",
   "execution_count": null,
   "id": "fb93dafc",
   "metadata": {},
   "outputs": [
    {
     "name": "stdout",
     "output_type": "stream",
     "text": [
      "Your next birthday is in 296 days.\n"
     ]
    }
   ],
   "source": [
    "from datetime import date\n",
    "\n",
    "birthdate_input = input(\"Enter your birthdate (YYYY-MM-DD): \")\n",
    "year, month, day = map(int, birthdate_input.split('-'))\n",
    "\n",
    "today = date.today()\n",
    "\n",
    "next_birthday = date(today.year, month, day)\n",
    "\n",
    "if next_birthday < today:\n",
    "    next_birthday = date(today.year + 1, month, day)\n",
    "\n",
    "days_left = (next_birthday - today).days\n",
    "\n",
    "print(f\"Your next birthday is in {days_left} days.\")\n"
   ]
  },
  {
   "cell_type": "code",
   "execution_count": null,
   "id": "1f93123f",
   "metadata": {},
   "outputs": [
    {
     "name": "stdout",
     "output_type": "stream",
     "text": [
      "The meeting will end at: 2025-06-17 15:28\n"
     ]
    }
   ],
   "source": [
    "# Task 3 - Meeting Scheduler: Ask the user to enter the current date and time, as well as the duration of a meeting in hours and minutes. Calculate and print the date and time when the meeting will end.\n",
    "\n",
    "from datetime import datetime, timedelta\n",
    "\n",
    "current_input = input(\"Enter the current date and time (YYYY-MM-DD HH:MM): \")\n",
    "current_time = datetime.strptime(current_input, \"%Y-%m-%d %H:%M\")\n",
    "\n",
    "hours = int(input(\"Enter meeting duration (hours): \"))\n",
    "minutes = int(input(\"Enter meeting duration (minutes): \"))\n",
    "\n",
    "duration = timedelta(hours=hours, minutes=minutes)\n",
    "\n",
    "end_time = current_time + duration\n",
    "\n",
    "print(\"The meeting will end at:\", end_time.strftime(\"%Y-%m-%d %H:%M\"))\n"
   ]
  },
  {
   "cell_type": "code",
   "execution_count": 70,
   "id": "c347f45e",
   "metadata": {},
   "outputs": [
    {
     "name": "stdout",
     "output_type": "stream",
     "text": [
      "\n",
      "Converted time:\n",
      "2025-04-09 10:00 (CEST)\n"
     ]
    }
   ],
   "source": [
    "# Task 4 - Timezone Converter: Create a program that allows the user to enter a date and time along with their current timezone, and then convert and print the date and time in another timezone of their choice.\n",
    "\n",
    "from datetime import datetime\n",
    "import pytz\n",
    "\n",
    "\n",
    "date_str = input(\"Enter date and time (YYYY-MM-DD HH:MM): \")\n",
    "from_zone = input(\"Enter your current timezone (e.g., Asia/Tashkent): \")\n",
    "to_zone = input(\"Enter the target timezone (e.g., Europe/London): \")\n",
    "\n",
    "naive_datetime = datetime.strptime(date_str, \"%Y-%m-%d %H:%M\")\n",
    "\n",
    "from_timezone = pytz.timezone(from_zone)\n",
    "local_dt = from_timezone.localize(naive_datetime)\n",
    "\n",
    "to_timezone = pytz.timezone(to_zone)\n",
    "converted_dt = local_dt.astimezone(to_timezone)\n",
    "\n",
    "print(\"\\nConverted time:\")\n",
    "print(converted_dt.strftime(\"%Y-%m-%d %H:%M (%Z)\"))\n"
   ]
  },
  {
   "cell_type": "code",
   "execution_count": null,
   "id": "6b5cbedb",
   "metadata": {},
   "outputs": [
    {
     "name": "stdout",
     "output_type": "stream",
     "text": [
      "Time's up!ning: 0:00:00\n"
     ]
    }
   ],
   "source": [
    "# Task 5 - Countdown Timer: Implement a countdown timer. Ask the user to input a future date and time, and then continuously print the time remaining until that point in regular intervals (e.g., every second).\n",
    "\n",
    "from datetime import datetime\n",
    "import time\n",
    "\n",
    "future_input = input(\"Enter a future date and time (YYYY-MM-DD HH:MM:SS): \")\n",
    "future_time = datetime.strptime(future_input, \"%Y-%m-%d %H:%M:%S\")\n",
    "\n",
    "while True:\n",
    "    now = datetime.now()\n",
    "    remaining = future_time - now\n",
    "\n",
    "    if remaining.total_seconds() <= 0:\n",
    "        print(\"Time's up!\")\n",
    "        break\n",
    "\n",
    "    print(\"Time remaining:\", str(remaining).split('.')[0], end='\\r')\n",
    "\n",
    "    time.sleep(1)\n"
   ]
  },
  {
   "cell_type": "code",
   "execution_count": 76,
   "id": "fad83711",
   "metadata": {},
   "outputs": [
    {
     "name": "stdout",
     "output_type": "stream",
     "text": [
      "Invalid email address.\n"
     ]
    }
   ],
   "source": [
    "# Task 6 - Email Validator: Write a program that validates email addresses. Ask the user to input an email address, and check if it follows a valid email format.\n",
    "\n",
    "email = input(\"Enter your email address: \")\n",
    "\n",
    "if \"@\" in email and \".\" in email and email.index(\"@\") < email.rindex(\".\"):\n",
    "    print(\"Valid email address.\")\n",
    "else:\n",
    "    print(\"Invalid email address.\")\n"
   ]
  },
  {
   "cell_type": "code",
   "execution_count": 88,
   "id": "416d14ca",
   "metadata": {},
   "outputs": [
    {
     "name": "stdout",
     "output_type": "stream",
     "text": [
      "Formatted phone number: (77) 777-77-77\n"
     ]
    }
   ],
   "source": [
    "# Task 7 - Phone Number Formatter: Create a program that takes a phone number as input and formats it according to a standard format. For example, convert \"1234567890\" to \"(123) 456-7890\".\n",
    "\n",
    "phone = input(\"Enter a 9-digit phone number: \")\n",
    "\n",
    "if len(phone) == 9 and phone.isdigit():\n",
    "    formatted = f\"({phone[:2]}) {phone[2:5]}-{phone[5:7]}-{phone[7:]}\"\n",
    "    print(\"Formatted phone number:\", formatted)\n",
    "else:\n",
    "    print(\"Invalid input. Please enter exactly 9 digits.\")\n"
   ]
  },
  {
   "cell_type": "code",
   "execution_count": null,
   "id": "0ffeb622",
   "metadata": {},
   "outputs": [
    {
     "name": "stdout",
     "output_type": "stream",
     "text": [
      "Weak password. Make sure it has:\n",
      "- At least one uppercase letter\n"
     ]
    }
   ],
   "source": [
    "# Task 8 - Password Strength Checker: Implement a password strength checker. Ask the user to input a password and check if it meets certain criteria (e.g., minimum length, contains at least one uppercase letter, one lowercase letter, and one digit). \n",
    "\n",
    "password = input(\"Enter a password: \")\n",
    "\n",
    "has_upper = any(c.isupper() for c in password)\n",
    "has_lower = any(c.islower() for c in password)\n",
    "has_digit = any(c.isdigit() for c in password)\n",
    "is_long_enough = len(password) >= 8\n",
    "\n",
    "if has_upper and has_lower and has_digit and is_long_enough:\n",
    "    print(\"Strong password.\")\n",
    "else:\n",
    "    print(\"Weak password. Make sure it has:\")\n",
    "    if not is_long_enough:\n",
    "        print(\"- At least 8 characters\")\n",
    "    if not has_upper:\n",
    "        print(\"- At least one uppercase letter\")\n",
    "    if not has_lower:\n",
    "        print(\"- At least one lowercase letter\")\n",
    "    if not has_digit:\n",
    "        print(\"- At least one digit\")\n"
   ]
  },
  {
   "cell_type": "code",
   "execution_count": null,
   "id": "8883cdf1",
   "metadata": {},
   "outputs": [
    {
     "name": "stdout",
     "output_type": "stream",
     "text": [
      "The word 'G'ani' was found 2 time(s) in the text.\n"
     ]
    }
   ],
   "source": [
    "# Task 9 - Word Finder: Develop a program that finds all occurrences of a specific word in a given text. Ask the user to input a word, and then search for and print all occurrences of that word in a sample text.\n",
    "\n",
    "text = \"G'ani g'ildireni g'ildiratib g'izillatti, G'ani g'ildireni g'ildiratib g'izillatti \"\n",
    "\n",
    "word = input(\"Enter the word to find: \")\n",
    "\n",
    "words = text.lower().split()\n",
    "search_word = word.lower()\n",
    "\n",
    "count = words.count(search_word)\n",
    "\n",
    "print(f\"The word '{word}' was found {count} time(s) in the text.\")\n"
   ]
  },
  {
   "cell_type": "code",
   "execution_count": 92,
   "id": "b3481f2c",
   "metadata": {},
   "outputs": [
    {
     "name": "stdout",
     "output_type": "stream",
     "text": [
      "Dates found in the text:\n",
      "- 2004-04-09\n"
     ]
    }
   ],
   "source": [
    "# Task 10 - \n",
    "\n",
    "import re\n",
    "\n",
    "text = input(\"Enter text with dates: \")\n",
    "\n",
    "pattern = r'\\b\\d{2}[/-]\\d{2}[/-]\\d{4}\\b|\\b\\d{4}-\\d{2}-\\d{2}\\b'\n",
    "\n",
    "dates = re.findall(pattern, text)\n",
    "\n",
    "if dates:\n",
    "    print(\"Dates found in the text:\")\n",
    "    for date in dates:\n",
    "        print(\"-\", date)\n",
    "else:\n",
    "    print(\"No dates found.\")\n"
   ]
  }
 ],
 "metadata": {
  "kernelspec": {
   "display_name": "Python 3",
   "language": "python",
   "name": "python3"
  },
  "language_info": {
   "codemirror_mode": {
    "name": "ipython",
    "version": 3
   },
   "file_extension": ".py",
   "mimetype": "text/x-python",
   "name": "python",
   "nbconvert_exporter": "python",
   "pygments_lexer": "ipython3",
   "version": "3.12.9"
  }
 },
 "nbformat": 4,
 "nbformat_minor": 5
}

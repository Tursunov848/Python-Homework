{
 "cells": [
  {
   "cell_type": "markdown",
   "id": "af5c7893",
   "metadata": {},
   "source": [
    "Homework"
   ]
  },
  {
   "cell_type": "code",
   "execution_count": null,
   "id": "44adf998",
   "metadata": {},
   "outputs": [
    {
     "name": "stdout",
     "output_type": "stream",
     "text": [
      "Not a leap year\n"
     ]
    }
   ],
   "source": [
    "# Task 1 - Determine a leap year\n",
    "\n",
    "year = int(input('Enter year:'))\n",
    "\n",
    "if (year % 4 == 0 and year % 100 != 0) or (year % 400 == 0):\n",
    "    print('Leep year')\n",
    "else:\n",
    "    print('Not a leap year')"
   ]
  },
  {
   "cell_type": "code",
   "execution_count": 32,
   "id": "24bd894d",
   "metadata": {},
   "outputs": [
    {
     "name": "stdout",
     "output_type": "stream",
     "text": [
      "Weird\n"
     ]
    }
   ],
   "source": [
    "# Task 2 - Conditional Statements Exercise\n",
    "\n",
    "check = int(input('Enter your number:'))\n",
    "\n",
    "if check % 2 != 0:\n",
    "   print('Weird')\n",
    "elif check % 2 == 0 and 2 <= check <= 5:\n",
    "   print('Not Weird')\n",
    "elif check  % 2 == 0 and 6 <= check <= 20:\n",
    "   print('Weird')\n",
    "elif check % 2 == 0 and check > 20:\n",
    "    print(\"Not Weird\")"
   ]
  },
  {
   "cell_type": "code",
   "execution_count": 36,
   "id": "947c440e",
   "metadata": {},
   "outputs": [
    {
     "name": "stdout",
     "output_type": "stream",
     "text": [
      "[2, 4, 6, 8, 10]\n"
     ]
    }
   ],
   "source": [
    "# Task 3 Solution 1 with if-else statement.\n",
    "\n",
    "a = int(input(\"Enter a: \"))\n",
    "b = int(input(\"Enter b: \"))\n",
    "\n",
    "print(list(range(min(a, b) + (min(a, b) % 2 == 1), max(a, b) + 1, 2)))\n",
    "\n",
    "\n",
    "\n",
    "\n"
   ]
  },
  {
   "cell_type": "code",
   "execution_count": 37,
   "id": "cf4181ff",
   "metadata": {},
   "outputs": [
    {
     "name": "stdout",
     "output_type": "stream",
     "text": [
      "Even numbers: [2, 4, 6, 8, 10]\n"
     ]
    }
   ],
   "source": [
    "# Task 3 - Solution 2 without if-else statement.\n",
    "\n",
    "a = int(input(\"Enter a: \"))\n",
    "b = int(input(\"Enter b: \"))\n",
    "\n",
    "if a > b:\n",
    "    a, b = b, a\n",
    "\n",
    "if a % 2 != 0:\n",
    "    a += 1\n",
    "\n",
    "even_numbers = list(range(a, b + 1, 2))\n",
    "print(\"Even numbers:\", even_numbers)\n"
   ]
  }
 ],
 "metadata": {
  "kernelspec": {
   "display_name": "Python 3",
   "language": "python",
   "name": "python3"
  },
  "language_info": {
   "codemirror_mode": {
    "name": "ipython",
    "version": 3
   },
   "file_extension": ".py",
   "mimetype": "text/x-python",
   "name": "python",
   "nbconvert_exporter": "python",
   "pygments_lexer": "ipython3",
   "version": "3.12.9"
  }
 },
 "nbformat": 4,
 "nbformat_minor": 5
}

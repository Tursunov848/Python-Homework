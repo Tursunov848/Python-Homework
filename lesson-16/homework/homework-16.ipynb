{
 "cells": [
  {
   "cell_type": "code",
   "execution_count": 21,
   "id": "4aead1d5",
   "metadata": {},
   "outputs": [
    {
     "name": "stdout",
     "output_type": "stream",
     "text": [
      "[ 12.23  13.32 100.    36.32]\n",
      "<class 'numpy.ndarray'>\n",
      "float64\n"
     ]
    }
   ],
   "source": [
    "# Task 1\n",
    "import numpy as np \n",
    "\n",
    "list = [12.23, 13.32, 100, 36.32]\n",
    "\n",
    "arr = np.array(list)\n",
    "\n",
    "print(arr)\n",
    "print(type(arr))\n",
    "print(arr.dtype)"
   ]
  },
  {
   "cell_type": "code",
   "execution_count": 3,
   "id": "b08a442f",
   "metadata": {},
   "outputs": [
    {
     "name": "stdout",
     "output_type": "stream",
     "text": [
      "[[ 2  3  4]\n",
      " [ 5  6  7]\n",
      " [ 8  9 10]]\n"
     ]
    }
   ],
   "source": [
    "# Task 2 \n",
    "\n",
    "import numpy as np\n",
    "\n",
    "range = np.arange(2, 11).reshape(3, 3)\n",
    "\n",
    "print(range)"
   ]
  },
  {
   "cell_type": "code",
   "execution_count": null,
   "id": "e4cc0375",
   "metadata": {},
   "outputs": [
    {
     "name": "stdout",
     "output_type": "stream",
     "text": [
      "[0. 0. 0. 0. 0. 0. 0. 0. 0. 0.]\n",
      "[ 0.  0.  0.  0.  0.  0. 11.  0.  0.  0.]\n"
     ]
    }
   ],
   "source": [
    "# Task 3 \n",
    "\n",
    "import numpy as np \n",
    "\n",
    "zero = np.zeros(10)\n",
    "\n",
    "print(zero)\n",
    "\n",
    "zero[6] = 11\n",
    "\n",
    "print(zero)\n",
    "\n",
    "\n"
   ]
  },
  {
   "cell_type": "code",
   "execution_count": 10,
   "id": "1689c0d0",
   "metadata": {},
   "outputs": [
    {
     "name": "stdout",
     "output_type": "stream",
     "text": [
      "[12 13 14 15 16 17 18 19 20 21 22 23 24 25 26 27 28 29 30 31 32 33 34 35\n",
      " 36 37]\n"
     ]
    }
   ],
   "source": [
    "# Task 4 \n",
    "\n",
    "import numpy as np \n",
    "\n",
    "range = np.arange(12, 38)\n",
    "\n",
    "print(range)"
   ]
  },
  {
   "cell_type": "code",
   "execution_count": 20,
   "id": "84452574",
   "metadata": {},
   "outputs": [
    {
     "name": "stdout",
     "output_type": "stream",
     "text": [
      "[1 2 3 4]\n",
      "[1. 2. 3. 4.]\n",
      "float64\n"
     ]
    }
   ],
   "source": [
    "# Task 5 \n",
    "\n",
    "import numpy as np \n",
    "\n",
    "original = np.array([1, 2, 3, 4])\n",
    "print(original)\n",
    "\n",
    "converted = original.astype(float)\n",
    "print(converted)\n",
    "print(converted.dtype)"
   ]
  },
  {
   "cell_type": "code",
   "execution_count": 23,
   "id": "96cb48d8",
   "metadata": {},
   "outputs": [
    {
     "name": "stdout",
     "output_type": "stream",
     "text": [
      "Values in Fahrenheit degrees: [ 0.   12.   45.21 34.   99.91 32.  ]\n",
      "Values in Centigrade degrees: [-17.78 -11.11   7.34   1.11  37.73   0.  ]\n",
      "Values in Fahrenheit degrees: [-4.0000e-03  1.2002e+01  4.5212e+01  3.3998e+01  9.9914e+01  3.2000e+01]\n"
     ]
    }
   ],
   "source": [
    "# Task 6 \n",
    "\n",
    "import numpy as np\n",
    "\n",
    "centigrade = np.array([-17.78, -11.11, 7.34, 1.11, 37.73, 0.])\n",
    "\n",
    "fahrenheit = centigrade * 9 / 5 + 32\n",
    "\n",
    "fahrenheit_sample = np.array([0, 12, 45.21, 34, 99.91, 32.])\n",
    "\n",
    "print(\"Values in Fahrenheit degrees:\", fahrenheit_sample)\n",
    "print(\"Values in Centigrade degrees:\", centigrade)\n",
    "print(\"Values in Fahrenheit degrees:\", fahrenheit)\n"
   ]
  },
  {
   "cell_type": "code",
   "execution_count": 27,
   "id": "75d42637",
   "metadata": {},
   "outputs": [
    {
     "name": "stdout",
     "output_type": "stream",
     "text": [
      "[10, 20, 30]\n",
      "[10 20 30 40 50 60 70 80 90]\n"
     ]
    }
   ],
   "source": [
    "# Task 7 \n",
    "\n",
    "import numpy as np\n",
    "\n",
    "original = [10, 20, 30]\n",
    "print(original)\n",
    "\n",
    "x = np.append(original, [[40, 50, 60], [70, 80, 90]])\n",
    "print(x)"
   ]
  },
  {
   "cell_type": "code",
   "execution_count": 28,
   "id": "9071b90e",
   "metadata": {},
   "outputs": [
    {
     "name": "stdout",
     "output_type": "stream",
     "text": [
      "Random Array: [0.71298345 0.25298126 0.15778019 0.91828938 0.95925221 0.48427283\n",
      " 0.13578222 0.45176924 0.95351082 0.80616781]\n",
      "Mean: 0.5832789406768905\n",
      "Median: 0.598628139967999\n",
      "Standard Deviation: 0.31219518143151703\n"
     ]
    }
   ],
   "source": [
    "# Task 8 \n",
    "\n",
    "import numpy as np\n",
    "\n",
    "arr = np.random.rand(10)\n",
    "\n",
    "mean_val = np.mean(arr)\n",
    "median_val = np.median(arr)\n",
    "std_dev_val = np.std(arr)\n",
    "\n",
    "print(\"Random Array:\", arr)\n",
    "print(\"Mean:\", mean_val)\n",
    "print(\"Median:\", median_val)\n",
    "print(\"Standard Deviation:\", std_dev_val)\n"
   ]
  },
  {
   "cell_type": "code",
   "execution_count": 31,
   "id": "080dd39d",
   "metadata": {},
   "outputs": [
    {
     "name": "stdout",
     "output_type": "stream",
     "text": [
      "[[0.55079349 0.566459   0.22436071 0.73726972 0.44758249 0.45501571\n",
      "  0.99536219 0.53312627 0.1875904  0.55394196]\n",
      " [0.94002125 0.41578268 0.64896849 0.41256521 0.36155547 0.59893261\n",
      "  0.59671814 0.02638972 0.22903513 0.26433594]\n",
      " [0.15533249 0.8685841  0.254032   0.60119519 0.21905422 0.11838258\n",
      "  0.00381996 0.85924095 0.95103806 0.80443371]\n",
      " [0.98389603 0.74772695 0.44561154 0.78717978 0.765935   0.43480874\n",
      "  0.56179357 0.15070167 0.68147251 0.86295222]\n",
      " [0.79093932 0.77741303 0.48390739 0.0282728  0.46033294 0.29157263\n",
      "  0.12250261 0.57403814 0.45180009 0.36697902]\n",
      " [0.05371318 0.4930731  0.7044282  0.9810834  0.75878384 0.62673173\n",
      "  0.06172085 0.92041014 0.67366148 0.91894828]\n",
      " [0.31775404 0.15737755 0.56368831 0.57359101 0.57220556 0.03344309\n",
      "  0.47975201 0.27197655 0.61340386 0.17661424]\n",
      " [0.42947138 0.12109359 0.1280682  0.81379158 0.95815825 0.54869716\n",
      "  0.83754822 0.1774976  0.45763321 0.40614441]\n",
      " [0.57723403 0.87915306 0.6613582  0.1268476  0.626802   0.29483405\n",
      "  0.59709638 0.85381274 0.64663499 0.55613114]\n",
      " [0.3823299  0.76605002 0.90155669 0.6893885  0.44075487 0.23521312\n",
      "  0.46190598 0.93087261 0.39910351 0.3626082 ]]\n",
      "min value: 0.003819958644336041\n",
      "max value: 0.9953621895252853\n"
     ]
    }
   ],
   "source": [
    "# Task 9\n",
    "\n",
    "import numpy as np \n",
    "\n",
    "random = np.random.random((10, 10))\n",
    "print(random)\n",
    "\n",
    "xmin, xmax = random.min(), random.max()\n",
    "\n",
    "print(f'min value:', xmin)\n",
    "print(f'max value:', xmax)"
   ]
  },
  {
   "cell_type": "code",
   "execution_count": 33,
   "id": "724b7b47",
   "metadata": {},
   "outputs": [
    {
     "name": "stdout",
     "output_type": "stream",
     "text": [
      "[[[0.8839524  0.47347278 0.5353888 ]\n",
      "  [0.15268689 0.98617785 0.77742022]\n",
      "  [0.17629889 0.72908371 0.87015778]]\n",
      "\n",
      " [[0.43462131 0.93311421 0.71555237]\n",
      "  [0.6080603  0.77988936 0.3465362 ]\n",
      "  [0.18358759 0.46430866 0.96369074]]\n",
      "\n",
      " [[0.61169128 0.68776052 0.35745282]\n",
      "  [0.87721587 0.24128086 0.64033679]\n",
      "  [0.80842726 0.07409945 0.35980694]]]\n"
     ]
    }
   ],
   "source": [
    "# Task 10 \n",
    "\n",
    "import numpy as np \n",
    "\n",
    "randoms = np.random.random((3, 3, 3))\n",
    "print(randoms)"
   ]
  }
 ],
 "metadata": {
  "kernelspec": {
   "display_name": "Python 3",
   "language": "python",
   "name": "python3"
  },
  "language_info": {
   "codemirror_mode": {
    "name": "ipython",
    "version": 3
   },
   "file_extension": ".py",
   "mimetype": "text/x-python",
   "name": "python",
   "nbconvert_exporter": "python",
   "pygments_lexer": "ipython3",
   "version": "3.12.9"
  }
 },
 "nbformat": 4,
 "nbformat_minor": 5
}

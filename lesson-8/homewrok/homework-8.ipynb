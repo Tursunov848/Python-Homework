{
 "cells": [
  {
   "cell_type": "markdown",
   "id": "64e54e03",
   "metadata": {},
   "source": [
    "Exception Handling Exercises\n",
    "\n"
   ]
  },
  {
   "cell_type": "code",
   "execution_count": null,
   "id": "ff26c13a",
   "metadata": {},
   "outputs": [
    {
     "name": "stdout",
     "output_type": "stream",
     "text": [
      "Process starting\n",
      "Cannot divide by 0\n"
     ]
    }
   ],
   "source": [
    "# Task 1. Write a Python program to handle a ZeroDivisionError exception when dividing a number by zero.\n",
    "\n",
    "try:\n",
    "    print('Process starting')\n",
    "    a = int(input('Enter your number'))\n",
    "    b = int(input('Enter your number'))\n",
    "    c = a/b\n",
    "except ZeroDivisionError:\n",
    "    print('Cannot divide by 0')"
   ]
  },
  {
   "cell_type": "code",
   "execution_count": null,
   "id": "10c2703e",
   "metadata": {},
   "outputs": [
    {
     "name": "stdout",
     "output_type": "stream",
     "text": [
      "Process starting\n",
      "insert only integers\n"
     ]
    }
   ],
   "source": [
    "# Task 2 Write a Python program that prompts the user to input an integer and raises a ValueError exception if the input is not a valid integer.\n",
    "\n",
    "try:\n",
    "    print('Process starting')\n",
    "    a = int(input('Enter your number'))\n",
    "    b = int(input('Enter your number'))\n",
    "    c = a/b\n",
    "except ValueError:\n",
    "    print('insert only integers')"
   ]
  },
  {
   "cell_type": "code",
   "execution_count": 49,
   "id": "338e4266",
   "metadata": {},
   "outputs": [
    {
     "name": "stdout",
     "output_type": "stream",
     "text": [
      "File not found\n"
     ]
    }
   ],
   "source": [
    "# Task 3 Write a Python program that opens a file and handles a FileNotFoundError exception if the file does not exist.\n",
    "\n",
    "try:\n",
    "    file_handler = open('people.csv', 'r')\n",
    "except FileNotFoundError:\n",
    "    print('File not found')"
   ]
  },
  {
   "cell_type": "code",
   "execution_count": 23,
   "id": "262885f1",
   "metadata": {},
   "outputs": [
    {
     "name": "stdout",
     "output_type": "stream",
     "text": [
      "Process starting\n",
      "Inputs are not numerical.\n"
     ]
    }
   ],
   "source": [
    "# Task 4 Write a Python program that prompts the user to input two numbers and raises a TypeError exception if the inputs are not numerical.\n",
    "\n",
    "try:\n",
    "    print('Process starting')\n",
    "    a = (input('Enter your number'))\n",
    "    b = (input('Enter your number'))\n",
    "    c = a/b\n",
    "except TypeError:\n",
    "    print('Inputs are not numerical.')"
   ]
  },
  {
   "cell_type": "code",
   "execution_count": 51,
   "id": "e188b42c",
   "metadata": {},
   "outputs": [],
   "source": [
    "# Task 5. Write a Python program that opens a file and handles a PermissionError exception if there is a permission issue.\n",
    "\n",
    "try:\n",
    "    file_handler = open('students.csv', 'r')\n",
    "except PermissionError:\n",
    "    print('No permission granted to this file')\n",
    "except FileNotFoundError:\n",
    "    print('File not found')"
   ]
  },
  {
   "cell_type": "code",
   "execution_count": 56,
   "id": "7fe2d355",
   "metadata": {},
   "outputs": [
    {
     "name": "stdout",
     "output_type": "stream",
     "text": [
      "Given index is out of range\n"
     ]
    }
   ],
   "source": [
    "# Task 6 Write a Python program that executes an operation on a list and handles an IndexError exception if the index is out of range.\n",
    "\n",
    "try:\n",
    "    list1 = [1, 2, 3]\n",
    "    list1[3] = 1000\n",
    "except IndexError:\n",
    "    print('Given index is out of range') \n",
    "    "
   ]
  },
  {
   "cell_type": "code",
   "execution_count": 63,
   "id": "0936d118",
   "metadata": {},
   "outputs": [
    {
     "name": "stdout",
     "output_type": "stream",
     "text": [
      "Please insert a input\n"
     ]
    }
   ],
   "source": [
    "# Task 7. Write a Python program that prompts the user to input a number and handles a KeyboardInterrupt exception if the user cancels the input.\n",
    "\n",
    "try:\n",
    "    num = int(input('Enter your number:'))\n",
    "except KeyboardInterrupt:\n",
    "    print('Please insert a input')"
   ]
  },
  {
   "cell_type": "code",
   "execution_count": 81,
   "id": "20769d22",
   "metadata": {},
   "outputs": [
    {
     "name": "stdout",
     "output_type": "stream",
     "text": [
      "Arithmetic error occurred: float division by zero\n"
     ]
    }
   ],
   "source": [
    "# Task 8 Write a Python program that executes division and handles an ArithmeticError exception if there is an arithmetic error.\n",
    "\n",
    "try:\n",
    "    num1 = float(input(\"Enter number: \"))\n",
    "    num2 = float(input(\"Enter number: \"))\n",
    "    result = num1 / num2\n",
    "    print(result)\n",
    "except ArithmeticError as e:\n",
    "    print(\"Arithmetic error occurred:\", e)\n"
   ]
  },
  {
   "cell_type": "code",
   "execution_count": 86,
   "id": "43d6265f",
   "metadata": {},
   "outputs": [
    {
     "name": "stdout",
     "output_type": "stream",
     "text": [
      "The file 'people.csv' does not exist.\n"
     ]
    }
   ],
   "source": [
    "# Task 9. Write a Python program that opens a file and handles a UnicodeDecodeError exception if there is an encoding issue.\n",
    "\n",
    "\n",
    "try:\n",
    "    open('people.csv', 'r', encoding='utf-8')\n",
    "except UnicodeDecodeError as e:\n",
    "    print(f\"Unicode decoding error: {e}\")\n",
    "except FileNotFoundError:\n",
    "    print(f\"The file '{'people.csv'}' does not exist.\")\n"
   ]
  },
  {
   "cell_type": "code",
   "execution_count": 87,
   "id": "ff875a6e",
   "metadata": {},
   "outputs": [
    {
     "name": "stdout",
     "output_type": "stream",
     "text": [
      "AttributeError caught: 'list' object has no attribute 'push'\n"
     ]
    }
   ],
   "source": [
    "# Task 10. Write a Python program that executes a list operation and handles an AttributeError exception if the attribute does not exist.\n",
    "\n",
    "my_list = [1, 2, 3, 4, 5]\n",
    "\n",
    "try:\n",
    "    my_list.push(6)\n",
    "except AttributeError as e:\n",
    "    print(\"AttributeError caught:\", e)\n"
   ]
  },
  {
   "cell_type": "markdown",
   "id": "d3f91d74",
   "metadata": {},
   "source": [
    "File Input/Output Exercises\n"
   ]
  },
  {
   "cell_type": "code",
   "execution_count": 95,
   "id": "75585ffb",
   "metadata": {},
   "outputs": [
    {
     "name": "stdout",
     "output_type": "stream",
     "text": [
      "hello\n",
      "hola\n"
     ]
    }
   ],
   "source": [
    "# Task 1. Write a Python program to read an entire text file.\n",
    "\n",
    "\n",
    "file = open('students.csv', 'r')\n",
    "data = file.read()\n",
    "print(data)\n",
    "file.close()\n"
   ]
  },
  {
   "cell_type": "code",
   "execution_count": null,
   "id": "86300274",
   "metadata": {},
   "outputs": [
    {
     "name": "stdout",
     "output_type": "stream",
     "text": [
      "hello\n"
     ]
    }
   ],
   "source": [
    "# Task 2. Write a Python program to read first n lines of a file.\n",
    "\n",
    "file = open('students.csv', 'r')\n",
    "first_line = file.readline()\n",
    "print(first_line.strip())  \n",
    "file.close()"
   ]
  },
  {
   "cell_type": "code",
   "execution_count": 106,
   "id": "bb8fe696",
   "metadata": {},
   "outputs": [
    {
     "name": "stdout",
     "output_type": "stream",
     "text": [
      "salom\n"
     ]
    }
   ],
   "source": [
    "# Task 3. Write a Python program to append text to a file and display the text.\n",
    "\n",
    "with open('sample.txt', 'w+') as file_handler:\n",
    "    file_handler.write('salom')\n",
    "\n",
    "with open('sample.txt') as file_handler:\n",
    "    print(file_handler.read())"
   ]
  },
  {
   "cell_type": "code",
   "execution_count": 130,
   "id": "947d3c22",
   "metadata": {},
   "outputs": [
    {
     "name": "stdout",
     "output_type": "stream",
     "text": [
      "hola\n"
     ]
    }
   ],
   "source": [
    "# Task 4. Write a Python program to read last n lines of a file.\n",
    "\n",
    "file = open('students.csv', 'r')\n",
    "lines = file.readlines()  \n",
    "file.close()\n",
    "print(lines[-1].strip())  \n",
    "\n"
   ]
  },
  {
   "cell_type": "code",
   "execution_count": 135,
   "id": "9e555d99",
   "metadata": {},
   "outputs": [
    {
     "name": "stdout",
     "output_type": "stream",
     "text": [
      "['hello', 'hola']\n"
     ]
    }
   ],
   "source": [
    "# Task 5. Write a Python program to read a file line by line and store it into a list.\n",
    "\n",
    "\n",
    "\n",
    "lines = []\n",
    "file = open('students.csv', 'r')\n",
    "\n",
    "for line in file:\n",
    "    lines.append(line.strip()) \n",
    "\n",
    "file.close()\n",
    "\n",
    "print(lines)\n"
   ]
  },
  {
   "cell_type": "code",
   "execution_count": null,
   "id": "9af0ca73",
   "metadata": {},
   "outputs": [
    {
     "name": "stdout",
     "output_type": "stream",
     "text": [
      "hello\n",
      "hola\n"
     ]
    }
   ],
   "source": [
    "# Task 6. Write a Python program to read a file line by line and store it into a variable.\n",
    "\n",
    "\n",
    "\n",
    "file = open('students.csv', 'r')\n",
    "list_n = ''\n",
    "\n",
    "for line in file:\n",
    "    list_n += line\n",
    "\n",
    "file.close()\n",
    "\n",
    "print(list_n)"
   ]
  },
  {
   "cell_type": "code",
   "execution_count": 138,
   "id": "c7bcb036",
   "metadata": {},
   "outputs": [
    {
     "name": "stdout",
     "output_type": "stream",
     "text": [
      "['hello', 'hola']\n"
     ]
    }
   ],
   "source": [
    "# Task 7. Write a Python program to read a file line by line and store it into an array.\n",
    "\n",
    "file = open('students.csv', 'r')\n",
    "lines = []\n",
    "\n",
    "for line in file:\n",
    "    lines.append(line.strip())\n",
    "\n",
    "file.close()\n",
    "\n",
    "print(lines)"
   ]
  },
  {
   "cell_type": "code",
   "execution_count": null,
   "id": "53774c98",
   "metadata": {},
   "outputs": [
    {
     "name": "stdout",
     "output_type": "stream",
     "text": [
      "Longest word length: 7\n",
      "Longest word(s): ['program', 'longest']\n"
     ]
    }
   ],
   "source": [
    "# Task 8. Write a Python program to find the longest words.\n",
    "\n",
    "\n",
    "text = \"Write a Python program to find the longest words\"\n",
    "words = text.split()\n",
    "\n",
    "max_length = max(len(word) for word in words)\n",
    "longest_words = [word for word in words if len(word) == max_length]\n",
    "\n",
    "print(\"Longest word length:\", max_length)\n",
    "print(\"Longest word(s):\", longest_words)\n"
   ]
  },
  {
   "cell_type": "code",
   "execution_count": null,
   "id": "ac7a9084",
   "metadata": {},
   "outputs": [
    {
     "name": "stdout",
     "output_type": "stream",
     "text": [
      "2\n"
     ]
    }
   ],
   "source": [
    "# Task 9. Write a Python program to count the number of lines in a text file.\n",
    "\n",
    "\n",
    "file = open('students.csv', 'r')\n",
    "line_count = 0\n",
    "\n",
    "for line in file:\n",
    "    line_count += 1\n",
    "\n",
    "file.close()\n",
    "print(line_count)"
   ]
  },
  {
   "cell_type": "code",
   "execution_count": null,
   "id": "2819b63c",
   "metadata": {},
   "outputs": [
    {
     "name": "stdout",
     "output_type": "stream",
     "text": [
      "hello: 1\n",
      "hola: 1\n"
     ]
    }
   ],
   "source": [
    "# Task 10. Write a Python program to count the frequency of words in a file.\n",
    "\n",
    "\n",
    "file = open('students.csv', 'r')\n",
    "word_freq = {}\n",
    "\n",
    "for line in file:\n",
    "    words = line.strip().split()\n",
    "    for word in words:\n",
    "        word = word.lower()  # Normalize to lowercase\n",
    "        word_freq[word] = word_freq.get(word, 0) + 1\n",
    "\n",
    "file.close()\n",
    "\n",
    "for word, freq in word_freq.items():\n",
    "    print(f\"{word}: {freq}\")"
   ]
  },
  {
   "cell_type": "code",
   "execution_count": 144,
   "id": "9728ccb2",
   "metadata": {},
   "outputs": [
    {
     "name": "stdout",
     "output_type": "stream",
     "text": [
      "File size: 11 bytes\n"
     ]
    }
   ],
   "source": [
    "# Task 11. Write a Python program to get the file size of a plain file.\n",
    "\n",
    "import os\n",
    "\n",
    "if os.path.isfile('students.csv'):\n",
    "    size = os.path.getsize('students.csv')\n",
    "    print(f\"File size: {size} bytes\")\n"
   ]
  },
  {
   "cell_type": "code",
   "execution_count": 149,
   "id": "da91a20f",
   "metadata": {},
   "outputs": [],
   "source": [
    "# Task 12. Write a Python program to write a list to a file.\n",
    "\n",
    "data = ['apple', 'banana', 'cherry', 'date']\n",
    "\n",
    "file = open('fruits.txt', 'w+')\n",
    "\n",
    "for item in data:\n",
    "    file.write(item + '\\n')\n",
    "\n",
    "\n",
    "file.close()\n"
   ]
  },
  {
   "cell_type": "code",
   "execution_count": 150,
   "id": "90af295d",
   "metadata": {},
   "outputs": [],
   "source": [
    "# Task 13. Write a Python program to copy the contents of a file to another file.\n",
    "\n",
    "source_file = open('students.csv', 'r')\n",
    "destination_file = open('destination.txt', 'w')\n",
    "\n",
    "for line in source_file:\n",
    "    destination_file.write(line)\n",
    "\n",
    "source_file.close()\n",
    "destination_file.close()\n",
    "\n"
   ]
  },
  {
   "cell_type": "code",
   "execution_count": 151,
   "id": "be660f7a",
   "metadata": {},
   "outputs": [
    {
     "name": "stdout",
     "output_type": "stream",
     "text": [
      "hello hello\n",
      "hola hola\n"
     ]
    }
   ],
   "source": [
    "# Task 14. Write a Python program to combine each line from the first file with the corresponding line in the second file.\n",
    "\n",
    "file1 = open('students.csv', 'r')\n",
    "file2 = open('destination.txt', 'r')\n",
    "\n",
    "lines1 = file1.readlines()\n",
    "lines2 = file2.readlines()\n",
    "\n",
    "for l1, l2 in zip(lines1, lines2):\n",
    "    combined = l1.strip() + \" \" + l2.strip()\n",
    "    print(combined)\n",
    "\n",
    "file1.close()\n",
    "file2.close()\n"
   ]
  },
  {
   "cell_type": "code",
   "execution_count": 152,
   "id": "0151751c",
   "metadata": {},
   "outputs": [
    {
     "name": "stdout",
     "output_type": "stream",
     "text": [
      "hello\n"
     ]
    }
   ],
   "source": [
    "# Task 15. Write a Python program to read a random line from a file.\n",
    "\n",
    "import random\n",
    "\n",
    "file = open('students.csv', 'r')\n",
    "lines = file.readlines()\n",
    "file.close()\n",
    "\n",
    "if lines:\n",
    "    random_line = random.choice(lines)\n",
    "    print(random_line.strip())\n",
    "\n"
   ]
  },
  {
   "cell_type": "code",
   "execution_count": 153,
   "id": "ac6e144f",
   "metadata": {},
   "outputs": [
    {
     "name": "stdout",
     "output_type": "stream",
     "text": [
      "File closed? False\n",
      "File closed? True\n"
     ]
    }
   ],
   "source": [
    "# Task 16. Write a Python program to assess if a file is closed or not.\n",
    "\n",
    "file = open('students.csv', 'r')\n",
    "\n",
    "print(\"File closed?\", file.closed)  \n",
    "\n",
    "file.close()\n",
    "\n",
    "print(\"File closed?\", file.closed)  "
   ]
  },
  {
   "cell_type": "code",
   "execution_count": null,
   "id": "a445423c",
   "metadata": {},
   "outputs": [
    {
     "name": "stdout",
     "output_type": "stream",
     "text": [
      "hello\n",
      "hola\n"
     ]
    }
   ],
   "source": [
    "# Task 17. Write a Python program to remove newline characters from a file.\n",
    "\n",
    "\n",
    "\n",
    "file = open('students.csv', 'r')\n",
    "lines = file.readlines()\n",
    "file.close()\n",
    "\n",
    "cleaned_lines = [line.strip() for line in lines]\n",
    "\n",
    "for line in cleaned_lines:\n",
    "    print(line)\n"
   ]
  },
  {
   "cell_type": "code",
   "execution_count": null,
   "id": "ea912d7b",
   "metadata": {},
   "outputs": [
    {
     "name": "stdout",
     "output_type": "stream",
     "text": [
      "2\n"
     ]
    }
   ],
   "source": [
    "# Task 18. Write a Python program that takes a text file as input and returns the number of words in a given text file.\n",
    "\n",
    "\n",
    "file = open('students.csv', 'r')\n",
    "text = file.read()\n",
    "file.close()\n",
    "text = text.replace(',', ' ')\n",
    "\n",
    "words = text.split()\n",
    "\n",
    "word_count = len(words)\n",
    "\n",
    "print(word_count)\n"
   ]
  },
  {
   "cell_type": "code",
   "execution_count": null,
   "id": "791dc889",
   "metadata": {},
   "outputs": [
    {
     "name": "stdout",
     "output_type": "stream",
     "text": [
      "Extracted characters:\n",
      "['h', 'e', 'l', 'l', 'o', '\\n', 'h', 'o', 'l', 'a', 'a', 'p', 'p', 'l', 'e', '\\n', 'b', 'a', 'n', 'a', 'n', 'a', '\\n', 'c', 'h', 'e', 'r', 'r', 'y', '\\n', 'd', 'a', 't', 'e', '\\n', 'h', 'e', 'l', 'l', 'o', '\\n', 'h', 'o', 'l', 'a']\n"
     ]
    }
   ],
   "source": [
    "# task 19. Write a Python program to extract characters from various text files and put them into a list.\n",
    "\n",
    "\n",
    "import os\n",
    "\n",
    "filenames = ['students.csv', 'fruits.txt', 'destination.txt']  \n",
    "\n",
    "characters = []\n",
    "\n",
    "for filename in filenames:\n",
    "    if os.path.exists(filename):\n",
    "        with open(filename, 'r') as file:\n",
    "            content = file.read()\n",
    "            characters.extend(list(content))\n",
    "    else:\n",
    "        print(f\"{filename} does not exist.\")\n",
    "\n",
    "print(\"Extracted characters:\")\n",
    "print(characters)\n"
   ]
  },
  {
   "cell_type": "code",
   "execution_count": 157,
   "id": "8ef1cdf1",
   "metadata": {},
   "outputs": [],
   "source": [
    "# task 20. Write a Python program to generate 26 text files named A.txt, B.txt, and so on up to Z.txt.\n",
    "\n",
    "import string\n",
    "\n",
    "for letter in string.ascii_uppercase:\n",
    "    filename = f\"{letter}.txt\"\n",
    "    with open(filename, 'w') as file:\n",
    "        file.write(f\"This is file {filename}\")\n"
   ]
  },
  {
   "cell_type": "code",
   "execution_count": null,
   "id": "cf857f22",
   "metadata": {},
   "outputs": [],
   "source": [
    "# Task 21. Write a Python program to create a file where all letters of the English alphabet are listed with a specified number of letters on each line.\n",
    "\n",
    "import string\n",
    "\n",
    "def write_alphabet(filename, letters_per_line):\n",
    "    letters = string.ascii_uppercase  \n",
    "    with open(filename, 'w') as file:\n",
    "        for i in range(0, len(letters), letters_per_line):\n",
    "            line = letters[i:i + letters_per_line]\n",
    "            file.write(line + '\\n')\n",
    "\n"
   ]
  }
 ],
 "metadata": {
  "kernelspec": {
   "display_name": "Python 3",
   "language": "python",
   "name": "python3"
  },
  "language_info": {
   "codemirror_mode": {
    "name": "ipython",
    "version": 3
   },
   "file_extension": ".py",
   "mimetype": "text/x-python",
   "name": "python",
   "nbconvert_exporter": "python",
   "pygments_lexer": "ipython3",
   "version": "3.12.9"
  }
 },
 "nbformat": 4,
 "nbformat_minor": 5
}

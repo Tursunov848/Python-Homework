{
 "cells": [
  {
   "cell_type": "code",
   "execution_count": null,
   "id": "2394e94b",
   "metadata": {},
   "outputs": [
    {
     "name": "stdout",
     "output_type": "stream",
     "text": [
      "Prime numbers: [2, 3, 5, 7, 11, 13, 17, 19, 23, 29, 31, 37, 41, 43, 47, 53, 59, 61, 67, 71, 73, 79, 83, 89, 97]\n"
     ]
    }
   ],
   "source": [
    "# Task 1 - Threaded Prime Number Checker\n",
    "\n",
    "import threading\n",
    "\n",
    "def is_prime(n):\n",
    "    if n < 2:\n",
    "        return False\n",
    "    for i in range(2, int(n ** 0.5) + 1):\n",
    "        if n % i == 0:\n",
    "            return False\n",
    "    return True\n",
    "\n",
    "def check_primes(start, end, results):\n",
    "    for num in range(start, end):\n",
    "        if is_prime(num):\n",
    "            results.append(num)\n",
    "\n",
    "if __name__ == \"__main__\":\n",
    "    start_range = 1\n",
    "    end_range = 100\n",
    "    num_threads = 4\n",
    "    threads = []\n",
    "    results = []\n",
    "\n",
    "    step = (end_range - start_range) // num_threads\n",
    "\n",
    "    for i in range(num_threads):\n",
    "        start = start_range + i * step\n",
    "        end = start_range + (i + 1) * step if i != num_threads - 1 else end_range\n",
    "        t = threading.Thread(target=check_primes, args=(start, end, results))\n",
    "        threads.append(t)\n",
    "        t.start()\n",
    "\n",
    "    for t in threads:\n",
    "        t.join()\n",
    "\n",
    "    results.sort()\n",
    "    print(\"Prime numbers:\", results)\n"
   ]
  },
  {
   "cell_type": "code",
   "execution_count": 3,
   "id": "ef266629",
   "metadata": {},
   "outputs": [
    {
     "name": "stdout",
     "output_type": "stream",
     "text": [
      "Word Occurrences:\n",
      "hello: 1\n",
      "hola: 1\n"
     ]
    }
   ],
   "source": [
    "# Task 2 - \n",
    "\n",
    "import threading\n",
    "\n",
    "partial_results = []\n",
    "\n",
    "def count_words(lines):\n",
    "    word_count = {}\n",
    "    for line in lines:\n",
    "        words = line.strip().lower().split()\n",
    "        for word in words:\n",
    "            if word in word_count:\n",
    "                word_count[word] += 1\n",
    "            else:\n",
    "                word_count[word] = 1\n",
    "    partial_results.append(word_count)\n",
    "\n",
    "if __name__ == \"__main__\":\n",
    "    file_path = \"students.csv\"  \n",
    "    num_threads = 4\n",
    "\n",
    "    with open(file_path, 'r', encoding='utf-8') as file:\n",
    "        lines = file.readlines()\n",
    "\n",
    "    total_lines = len(lines)\n",
    "    chunk_size = total_lines // num_threads\n",
    "    threads = []\n",
    "\n",
    "    for i in range(num_threads):\n",
    "        start = i * chunk_size\n",
    "        end = (i + 1) * chunk_size if i != num_threads - 1 else total_lines\n",
    "        thread_lines = lines[start:end]\n",
    "        t = threading.Thread(target=count_words, args=(thread_lines,))\n",
    "        threads.append(t)\n",
    "        t.start()\n",
    "\n",
    "    for t in threads:\n",
    "        t.join()\n",
    "\n",
    "    final_count = {}\n",
    "    for result in partial_results:\n",
    "        for word in result:\n",
    "            if word in final_count:\n",
    "                final_count[word] += result[word]\n",
    "            else:\n",
    "                final_count[word] = result[word]\n",
    "\n",
    "    print(\"Word Occurrences:\")\n",
    "    for word, count in sorted(final_count.items()):\n",
    "        print(f\"{word}: {count}\")\n"
   ]
  }
 ],
 "metadata": {
  "kernelspec": {
   "display_name": "Python 3",
   "language": "python",
   "name": "python3"
  },
  "language_info": {
   "codemirror_mode": {
    "name": "ipython",
    "version": 3
   },
   "file_extension": ".py",
   "mimetype": "text/x-python",
   "name": "python",
   "nbconvert_exporter": "python",
   "pygments_lexer": "ipython3",
   "version": "3.12.9"
  }
 },
 "nbformat": 4,
 "nbformat_minor": 5
}

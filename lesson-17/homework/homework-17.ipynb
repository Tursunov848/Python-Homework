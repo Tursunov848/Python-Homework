{
 "cells": [
  {
   "cell_type": "code",
   "execution_count": 4,
   "id": "cbae00aa",
   "metadata": {},
   "outputs": [],
   "source": [
    "# Homework 1\n",
    "\n",
    "import pandas as pd\n",
    "\n",
    "data = {'First Name': ['Alice', 'Bob', 'Charlie', 'David'], 'Age': [25, 30, 35, 40], 'City': ['New York', 'San Francisco', 'Los Angeles', 'Chicago']} \n",
    "\n",
    "df = pd.DataFrame(data)"
   ]
  },
  {
   "cell_type": "code",
   "execution_count": 5,
   "metadata": {},
   "outputs": [
    {
     "data": {
      "text/html": [
       "<div>\n",
       "<style scoped>\n",
       "    .dataframe tbody tr th:only-of-type {\n",
       "        vertical-align: middle;\n",
       "    }\n",
       "\n",
       "    .dataframe tbody tr th {\n",
       "        vertical-align: top;\n",
       "    }\n",
       "\n",
       "    .dataframe thead th {\n",
       "        text-align: right;\n",
       "    }\n",
       "</style>\n",
       "<table border=\"1\" class=\"dataframe\">\n",
       "  <thead>\n",
       "    <tr style=\"text-align: right;\">\n",
       "      <th></th>\n",
       "      <th>First Name</th>\n",
       "      <th>Age</th>\n",
       "      <th>City</th>\n",
       "    </tr>\n",
       "  </thead>\n",
       "  <tbody>\n",
       "    <tr>\n",
       "      <th>0</th>\n",
       "      <td>Alice</td>\n",
       "      <td>25</td>\n",
       "      <td>New York</td>\n",
       "    </tr>\n",
       "    <tr>\n",
       "      <th>1</th>\n",
       "      <td>Bob</td>\n",
       "      <td>30</td>\n",
       "      <td>San Francisco</td>\n",
       "    </tr>\n",
       "    <tr>\n",
       "      <th>2</th>\n",
       "      <td>Charlie</td>\n",
       "      <td>35</td>\n",
       "      <td>Los Angeles</td>\n",
       "    </tr>\n",
       "    <tr>\n",
       "      <th>3</th>\n",
       "      <td>David</td>\n",
       "      <td>40</td>\n",
       "      <td>Chicago</td>\n",
       "    </tr>\n",
       "  </tbody>\n",
       "</table>\n",
       "</div>"
      ],
      "text/plain": [
       "  First Name  Age           City\n",
       "0      Alice   25       New York\n",
       "1        Bob   30  San Francisco\n",
       "2    Charlie   35    Los Angeles\n",
       "3      David   40        Chicago"
      ]
     },
     "execution_count": 5,
     "metadata": {},
     "output_type": "execute_result"
    }
   ],
   "source": [
    "df"
   ]
  },
  {
   "cell_type": "code",
   "execution_count": 7,
   "id": "cccc3c35",
   "metadata": {},
   "outputs": [
    {
     "name": "stdout",
     "output_type": "stream",
     "text": [
      "  first_name  age           City\n",
      "0      Alice   25       New York\n",
      "1        Bob   30  San Francisco\n",
      "2    Charlie   35    Los Angeles\n",
      "3      David   40        Chicago\n"
     ]
    }
   ],
   "source": [
    "# Task 1 \n",
    "\n",
    "df.rename(columns={'First Name': 'first_name', 'Age': 'age'}, inplace=True)\n",
    "\n",
    "print(df)"
   ]
  },
  {
   "cell_type": "code",
   "execution_count": 8,
   "id": "b3a69bf2",
   "metadata": {},
   "outputs": [
    {
     "data": {
      "text/html": [
       "<div>\n",
       "<style scoped>\n",
       "    .dataframe tbody tr th:only-of-type {\n",
       "        vertical-align: middle;\n",
       "    }\n",
       "\n",
       "    .dataframe tbody tr th {\n",
       "        vertical-align: top;\n",
       "    }\n",
       "\n",
       "    .dataframe thead th {\n",
       "        text-align: right;\n",
       "    }\n",
       "</style>\n",
       "<table border=\"1\" class=\"dataframe\">\n",
       "  <thead>\n",
       "    <tr style=\"text-align: right;\">\n",
       "      <th></th>\n",
       "      <th>first_name</th>\n",
       "      <th>age</th>\n",
       "      <th>City</th>\n",
       "    </tr>\n",
       "  </thead>\n",
       "  <tbody>\n",
       "    <tr>\n",
       "      <th>0</th>\n",
       "      <td>Alice</td>\n",
       "      <td>25</td>\n",
       "      <td>New York</td>\n",
       "    </tr>\n",
       "    <tr>\n",
       "      <th>1</th>\n",
       "      <td>Bob</td>\n",
       "      <td>30</td>\n",
       "      <td>San Francisco</td>\n",
       "    </tr>\n",
       "    <tr>\n",
       "      <th>2</th>\n",
       "      <td>Charlie</td>\n",
       "      <td>35</td>\n",
       "      <td>Los Angeles</td>\n",
       "    </tr>\n",
       "  </tbody>\n",
       "</table>\n",
       "</div>"
      ],
      "text/plain": [
       "  first_name  age           City\n",
       "0      Alice   25       New York\n",
       "1        Bob   30  San Francisco\n",
       "2    Charlie   35    Los Angeles"
      ]
     },
     "execution_count": 8,
     "metadata": {},
     "output_type": "execute_result"
    }
   ],
   "source": [
    "# Task 2\n",
    "\n",
    "df.head(3)"
   ]
  },
  {
   "cell_type": "code",
   "execution_count": 11,
   "id": "642738a8",
   "metadata": {},
   "outputs": [
    {
     "name": "stdout",
     "output_type": "stream",
     "text": [
      "32.5\n"
     ]
    }
   ],
   "source": [
    "# Task 3 \n",
    "\n",
    "mean_age = df['age'].mean()\n",
    "print(mean_age)"
   ]
  },
  {
   "cell_type": "code",
   "execution_count": 17,
   "id": "abc70d41",
   "metadata": {},
   "outputs": [
    {
     "name": "stdout",
     "output_type": "stream",
     "text": [
      "  first_name           City\n",
      "0      Alice       New York\n",
      "1        Bob  San Francisco\n",
      "2    Charlie    Los Angeles\n",
      "3      David        Chicago\n"
     ]
    }
   ],
   "source": [
    "# Task 4 \n",
    "\n",
    "columns = df[['first_name', 'City']]\n",
    "print(columns)\n"
   ]
  },
  {
   "cell_type": "code",
   "execution_count": 19,
   "id": "7e2ce80c",
   "metadata": {},
   "outputs": [
    {
     "name": "stdout",
     "output_type": "stream",
     "text": [
      "  first_name  age           City Salary\n",
      "0      Alice   25       New York  $2000\n",
      "1        Bob   30  San Francisco  $2000\n",
      "2    Charlie   35    Los Angeles  $2000\n",
      "3      David   40        Chicago  $2000\n"
     ]
    }
   ],
   "source": [
    "# Task 5\n",
    "\n",
    "df['Salary'] = '$2000'\n",
    "print(df)"
   ]
  },
  {
   "cell_type": "code",
   "execution_count": 20,
   "id": "92579485",
   "metadata": {},
   "outputs": [
    {
     "data": {
      "text/html": [
       "<div>\n",
       "<style scoped>\n",
       "    .dataframe tbody tr th:only-of-type {\n",
       "        vertical-align: middle;\n",
       "    }\n",
       "\n",
       "    .dataframe tbody tr th {\n",
       "        vertical-align: top;\n",
       "    }\n",
       "\n",
       "    .dataframe thead th {\n",
       "        text-align: right;\n",
       "    }\n",
       "</style>\n",
       "<table border=\"1\" class=\"dataframe\">\n",
       "  <thead>\n",
       "    <tr style=\"text-align: right;\">\n",
       "      <th></th>\n",
       "      <th>age</th>\n",
       "    </tr>\n",
       "  </thead>\n",
       "  <tbody>\n",
       "    <tr>\n",
       "      <th>count</th>\n",
       "      <td>4.000000</td>\n",
       "    </tr>\n",
       "    <tr>\n",
       "      <th>mean</th>\n",
       "      <td>32.500000</td>\n",
       "    </tr>\n",
       "    <tr>\n",
       "      <th>std</th>\n",
       "      <td>6.454972</td>\n",
       "    </tr>\n",
       "    <tr>\n",
       "      <th>min</th>\n",
       "      <td>25.000000</td>\n",
       "    </tr>\n",
       "    <tr>\n",
       "      <th>25%</th>\n",
       "      <td>28.750000</td>\n",
       "    </tr>\n",
       "    <tr>\n",
       "      <th>50%</th>\n",
       "      <td>32.500000</td>\n",
       "    </tr>\n",
       "    <tr>\n",
       "      <th>75%</th>\n",
       "      <td>36.250000</td>\n",
       "    </tr>\n",
       "    <tr>\n",
       "      <th>max</th>\n",
       "      <td>40.000000</td>\n",
       "    </tr>\n",
       "  </tbody>\n",
       "</table>\n",
       "</div>"
      ],
      "text/plain": [
       "             age\n",
       "count   4.000000\n",
       "mean   32.500000\n",
       "std     6.454972\n",
       "min    25.000000\n",
       "25%    28.750000\n",
       "50%    32.500000\n",
       "75%    36.250000\n",
       "max    40.000000"
      ]
     },
     "execution_count": 20,
     "metadata": {},
     "output_type": "execute_result"
    }
   ],
   "source": [
    "# Task 6 \n",
    "\n",
    "df.describe()"
   ]
  },
  {
   "cell_type": "code",
   "execution_count": 1,
   "id": "6b85f420",
   "metadata": {},
   "outputs": [
    {
     "name": "stdout",
     "output_type": "stream",
     "text": [
      "  Month  Sales  Expenses\n",
      "0   Jan   5000      3000\n",
      "1   Feb   6000      3500\n",
      "2   Mar   7500      4000\n",
      "3   Apr   8000      4500\n"
     ]
    }
   ],
   "source": [
    "# Homework 2\n",
    "# Task 1\n",
    "\n",
    "import pandas as pd\n",
    "\n",
    "data = {\n",
    "    'Month': ['Jan', 'Feb', 'Mar', 'Apr'],\n",
    "    'Sales': [5000, 6000, 7500, 8000],\n",
    "    'Expenses': [3000, 3500, 4000, 4500]\n",
    "}\n",
    "\n",
    "sales_and_expenses = pd.DataFrame(data)\n",
    "\n",
    "print(sales_and_expenses)\n"
   ]
  },
  {
   "cell_type": "code",
   "execution_count": 2,
   "id": "44c68d50",
   "metadata": {},
   "outputs": [
    {
     "name": "stdout",
     "output_type": "stream",
     "text": [
      "Maximum Sales: 8000\n",
      "Maximum Expenses: 4500\n"
     ]
    }
   ],
   "source": [
    "# Task 2 \n",
    "\n",
    "max_sales = sales_and_expenses['Sales'].max()\n",
    "max_expenses = sales_and_expenses['Expenses'].max()\n",
    "\n",
    "print(\"Maximum Sales:\", max_sales)\n",
    "print(\"Maximum Expenses:\", max_expenses)"
   ]
  },
  {
   "cell_type": "code",
   "execution_count": 3,
   "id": "9ecca462",
   "metadata": {},
   "outputs": [
    {
     "name": "stdout",
     "output_type": "stream",
     "text": [
      "Minimum Sales: 5000\n",
      "Minimum Expenses: 3000\n"
     ]
    }
   ],
   "source": [
    "# task 3 \n",
    "\n",
    "min_sales = sales_and_expenses['Sales'].min()\n",
    "min_expenses = sales_and_expenses['Expenses'].min()\n",
    "\n",
    "print(\"Minimum Sales:\", min_sales)\n",
    "print(\"Minimum Expenses:\", min_expenses)"
   ]
  },
  {
   "cell_type": "code",
   "execution_count": 4,
   "id": "549f6977",
   "metadata": {},
   "outputs": [
    {
     "name": "stdout",
     "output_type": "stream",
     "text": [
      "Average Sales: 6625.0\n",
      "Average Expenses: 3750.0\n"
     ]
    }
   ],
   "source": [
    "# Task 4\n",
    "\n",
    "avg_sales = sales_and_expenses['Sales'].mean()\n",
    "avg_expenses = sales_and_expenses['Expenses'].mean()\n",
    "\n",
    "print(\"Average Sales:\", avg_sales)\n",
    "print(\"Average Expenses:\", avg_expenses)"
   ]
  },
  {
   "cell_type": "code",
   "execution_count": 6,
   "id": "7d3bcfff",
   "metadata": {},
   "outputs": [
    {
     "data": {
      "text/html": [
       "<div>\n",
       "<style scoped>\n",
       "    .dataframe tbody tr th:only-of-type {\n",
       "        vertical-align: middle;\n",
       "    }\n",
       "\n",
       "    .dataframe tbody tr th {\n",
       "        vertical-align: top;\n",
       "    }\n",
       "\n",
       "    .dataframe thead th {\n",
       "        text-align: right;\n",
       "    }\n",
       "</style>\n",
       "<table border=\"1\" class=\"dataframe\">\n",
       "  <thead>\n",
       "    <tr style=\"text-align: right;\">\n",
       "      <th></th>\n",
       "      <th>January</th>\n",
       "      <th>February</th>\n",
       "      <th>March</th>\n",
       "      <th>April</th>\n",
       "    </tr>\n",
       "    <tr>\n",
       "      <th>Category</th>\n",
       "      <th></th>\n",
       "      <th></th>\n",
       "      <th></th>\n",
       "      <th></th>\n",
       "    </tr>\n",
       "  </thead>\n",
       "  <tbody>\n",
       "    <tr>\n",
       "      <th>Rent</th>\n",
       "      <td>1200</td>\n",
       "      <td>1300</td>\n",
       "      <td>1400</td>\n",
       "      <td>1500</td>\n",
       "    </tr>\n",
       "    <tr>\n",
       "      <th>Utilities</th>\n",
       "      <td>200</td>\n",
       "      <td>220</td>\n",
       "      <td>240</td>\n",
       "      <td>250</td>\n",
       "    </tr>\n",
       "    <tr>\n",
       "      <th>Groceries</th>\n",
       "      <td>300</td>\n",
       "      <td>320</td>\n",
       "      <td>330</td>\n",
       "      <td>350</td>\n",
       "    </tr>\n",
       "    <tr>\n",
       "      <th>Entertainment</th>\n",
       "      <td>150</td>\n",
       "      <td>160</td>\n",
       "      <td>170</td>\n",
       "      <td>180</td>\n",
       "    </tr>\n",
       "  </tbody>\n",
       "</table>\n",
       "</div>"
      ],
      "text/plain": [
       "               January  February  March  April\n",
       "Category                                      \n",
       "Rent              1200      1300   1400   1500\n",
       "Utilities          200       220    240    250\n",
       "Groceries          300       320    330    350\n",
       "Entertainment      150       160    170    180"
      ]
     },
     "execution_count": 6,
     "metadata": {},
     "output_type": "execute_result"
    }
   ],
   "source": [
    "# Homework 3\n",
    "# task 1\n",
    "\n",
    "import pandas as pd\n",
    "\n",
    "data = {\n",
    "    'Category': ['Rent', 'Utilities', 'Groceries', 'Entertainment'],\n",
    "    'January': [1200, 200, 300, 150],\n",
    "    'February': [1300, 220, 320, 160],\n",
    "    'March': [1400, 240, 330, 170],\n",
    "    'April': [1500, 250, 350, 180]\n",
    "}\n",
    "\n",
    "expenses = pd.DataFrame(data)\n",
    "\n",
    "expenses = expenses.set_index('Category')\n",
    "\n",
    "expenses"
   ]
  },
  {
   "cell_type": "code",
   "execution_count": 7,
   "id": "e257d6e4",
   "metadata": {},
   "outputs": [
    {
     "name": "stdout",
     "output_type": "stream",
     "text": [
      "Maximum expense for each category:\n",
      "Category\n",
      "Rent             1500\n",
      "Utilities         250\n",
      "Groceries         350\n",
      "Entertainment     180\n",
      "dtype: int64\n",
      "\n"
     ]
    }
   ],
   "source": [
    "# Task 2\n",
    "\n",
    "max_expense = expenses.max(axis=1)\n",
    "print(\"Maximum expense for each category:\")\n",
    "print(max_expense)\n",
    "print()"
   ]
  },
  {
   "cell_type": "code",
   "execution_count": 8,
   "id": "5f7faa68",
   "metadata": {},
   "outputs": [
    {
     "name": "stdout",
     "output_type": "stream",
     "text": [
      "Minimum expense for each category:\n",
      "Category\n",
      "Rent             1200\n",
      "Utilities         200\n",
      "Groceries         300\n",
      "Entertainment     150\n",
      "dtype: int64\n",
      "\n"
     ]
    }
   ],
   "source": [
    "# Task 3\n",
    "\n",
    "min_expense = expenses.min(axis=1)\n",
    "print(\"Minimum expense for each category:\")\n",
    "print(min_expense)\n",
    "print()"
   ]
  },
  {
   "cell_type": "code",
   "execution_count": 9,
   "id": "65538bd8",
   "metadata": {},
   "outputs": [
    {
     "name": "stdout",
     "output_type": "stream",
     "text": [
      "Average expense for each category:\n",
      "Category\n",
      "Rent             1350.0\n",
      "Utilities         227.5\n",
      "Groceries         325.0\n",
      "Entertainment     165.0\n",
      "dtype: float64\n"
     ]
    }
   ],
   "source": [
    "# task 4\n",
    "\n",
    "avg_expense = expenses.mean(axis=1)\n",
    "print(\"Average expense for each category:\")\n",
    "print(avg_expense)"
   ]
  },
  {
   "cell_type": "code",
   "execution_count": null,
   "id": "0187c82d",
   "metadata": {},
   "outputs": [],
   "source": []
  }
 ],
 "metadata": {
  "kernelspec": {
   "display_name": "Python 3",
   "language": "python",
   "name": "python3"
  },
  "language_info": {
   "codemirror_mode": {
    "name": "ipython",
    "version": 3
   },
   "file_extension": ".py",
   "mimetype": "text/x-python",
   "name": "python",
   "nbconvert_exporter": "python",
   "pygments_lexer": "ipython3",
   "version": "3.12.9"
  }
 },
 "nbformat": 4,
 "nbformat_minor": 5
}

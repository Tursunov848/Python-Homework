{
 "cells": [
  {
   "cell_type": "markdown",
   "id": "e49fc70e",
   "metadata": {},
   "source": [
    "Homework\n"
   ]
  },
  {
   "cell_type": "markdown",
   "id": "0d2549e9",
   "metadata": {},
   "source": [
    "1. Modify String with Underscores\n"
   ]
  },
  {
   "cell_type": "code",
   "execution_count": 78,
   "id": "4c771086",
   "metadata": {},
   "outputs": [
    {
     "name": "stdout",
     "output_type": "stream",
     "text": [
      "hel_lo\n"
     ]
    }
   ],
   "source": [
    "# Task 1 -  Modify String with Underscores\n",
    "\n",
    "s = input(\"Enter a string: \")\n",
    "vowels = 'aeiouAEIOU'\n",
    "s = list(s)\n",
    "i = 3\n",
    "\n",
    "while i < len(s):\n",
    "    if s[i - 1] in vowels or (i < len(s) and s[i] == '_'):\n",
    "        i += 1  # shift\n",
    "    else:\n",
    "        s.insert(i, '_')\n",
    "        i += 4 \n",
    "\n",
    "print(''.join(s))\n",
    "\n"
   ]
  },
  {
   "cell_type": "markdown",
   "id": "06eb87f5",
   "metadata": {},
   "source": [
    "2. Integer Squares Exercise\n"
   ]
  },
  {
   "cell_type": "code",
   "execution_count": 14,
   "id": "ed5f5fa5",
   "metadata": {},
   "outputs": [
    {
     "name": "stdout",
     "output_type": "stream",
     "text": [
      "0\n",
      "1\n",
      "4\n",
      "9\n",
      "16\n"
     ]
    }
   ],
   "source": [
    "# 2. Integer Squares Exercise\n",
    "\n",
    "n = int(input(\"Enter a number: \"))\n",
    "\n",
    "for i in range(n):\n",
    "    print(i ** 2)\n"
   ]
  },
  {
   "cell_type": "markdown",
   "id": "d4cf33c4",
   "metadata": {},
   "source": [
    "3.  Loop-Based Exercises"
   ]
  },
  {
   "cell_type": "code",
   "execution_count": 17,
   "id": "71452237",
   "metadata": {},
   "outputs": [
    {
     "name": "stdout",
     "output_type": "stream",
     "text": [
      "0\n",
      "1\n",
      "2\n",
      "3\n",
      "4\n",
      "5\n",
      "6\n",
      "7\n",
      "8\n",
      "9\n",
      "10\n"
     ]
    }
   ],
   "source": [
    "# Exercise 1: Print first 10 natural numbers using a while loop\n",
    "\n",
    "number = 0\n",
    "while number <= 10:\n",
    "    print(number)\n",
    "    number +=1"
   ]
  },
  {
   "cell_type": "code",
   "execution_count": null,
   "id": "f7bb2b5e",
   "metadata": {},
   "outputs": [
    {
     "name": "stdout",
     "output_type": "stream",
     "text": [
      "1 2 3 4 5 \n",
      "1 2 3 4 \n",
      "1 2 3 \n",
      "1 2 \n",
      "1 \n"
     ]
    }
   ],
   "source": [
    "# Exercise 2: Print the following pattern\n",
    "\n",
    "for i in range(1, 6):  \n",
    "    for j in range(1, i + 1):  \n",
    "        print(j, end=' ')\n",
    "    print()  \n"
   ]
  },
  {
   "cell_type": "code",
   "execution_count": 22,
   "id": "76d6a04e",
   "metadata": {},
   "outputs": [
    {
     "name": "stdout",
     "output_type": "stream",
     "text": [
      "55\n"
     ]
    }
   ],
   "source": [
    "# Exercise 3: Calculate sum of all numbers from 1 to a given number\n",
    "\n",
    "n = int(input(\"Enter number: \"))\n",
    "\n",
    "sum_numbers = n * (n + 1) // 2\n",
    "\n",
    "print(sum_numbers)\n"
   ]
  },
  {
   "cell_type": "code",
   "execution_count": 25,
   "id": "555cbb28",
   "metadata": {},
   "outputs": [
    {
     "name": "stdout",
     "output_type": "stream",
     "text": [
      "2\n",
      "4\n",
      "6\n",
      "8\n",
      "10\n",
      "12\n",
      "14\n",
      "16\n",
      "18\n",
      "20\n"
     ]
    }
   ],
   "source": [
    "# Exercise 4: Print multiplication table of a given number\n",
    "\n",
    "n = int(input(\"Enter number: \"))\n",
    "\n",
    "for i in range(1, 11):\n",
    "    print(n * i)\n"
   ]
  },
  {
   "cell_type": "code",
   "execution_count": 54,
   "id": "b71ea338",
   "metadata": {},
   "outputs": [
    {
     "name": "stdout",
     "output_type": "stream",
     "text": [
      "75\n",
      "150\n",
      "145\n"
     ]
    }
   ],
   "source": [
    "# Exercise 5: Display numbers from a list using a loop\n",
    "\n",
    "numbers = [12, 75, 150, 180, 145, 525, 50]\n",
    "\n",
    "for num in numbers:\n",
    "    if num > 50 and num <= 150 and num % 5 == 0:\n",
    "        print(num)\n",
    "\n"
   ]
  },
  {
   "cell_type": "code",
   "execution_count": null,
   "id": "0660ef21",
   "metadata": {},
   "outputs": [
    {
     "name": "stdout",
     "output_type": "stream",
     "text": [
      "Output: 5\n"
     ]
    }
   ],
   "source": [
    "# Exercise 6: Count the total number of digits in a number\n",
    "\n",
    "num = input(\"Enter a number: \")\n",
    "\n",
    "count_digits = len(num)\n",
    "\n",
    "print(count_digits)\n"
   ]
  },
  {
   "cell_type": "code",
   "execution_count": null,
   "id": "6c8d1795",
   "metadata": {},
   "outputs": [
    {
     "name": "stdout",
     "output_type": "stream",
     "text": [
      "5 4 3 2 1 \n",
      "4 3 2 1 \n",
      "3 2 1 \n",
      "2 1 \n",
      "1 \n"
     ]
    }
   ],
   "source": [
    "# Exercise 7: Print reverse number pattern\n",
    "\n",
    "\n",
    "n = 5\n",
    "\n",
    "for i in range(n, 0, -1):\n",
    "    for j in range(i, 0, -1):\n",
    "        print(j, end=' ')\n",
    "    print()\n"
   ]
  },
  {
   "cell_type": "code",
   "execution_count": null,
   "id": "7a4708b1",
   "metadata": {},
   "outputs": [
    {
     "name": "stdout",
     "output_type": "stream",
     "text": [
      "50\n",
      "40\n",
      "30\n",
      "20\n",
      "10\n"
     ]
    }
   ],
   "source": [
    "# Exercise 8: Print list in reverse order using a loop\n",
    "\n",
    "list1 = [10, 20, 30, 40, 50]\n",
    "\n",
    "for item in reversed(list1):\n",
    "    print(item)\n"
   ]
  },
  {
   "cell_type": "code",
   "execution_count": 64,
   "id": "848cec65",
   "metadata": {},
   "outputs": [
    {
     "name": "stdout",
     "output_type": "stream",
     "text": [
      "-10\n",
      "-9\n",
      "-8\n",
      "-7\n",
      "-6\n",
      "-5\n",
      "-4\n",
      "-3\n",
      "-2\n",
      "-1\n"
     ]
    }
   ],
   "source": [
    "# Exercise 9: Display numbers from -10 to -1 using a for loop\n",
    "\n",
    "for i in range(-10, 0):\n",
    "    print(i)"
   ]
  },
  {
   "cell_type": "code",
   "execution_count": 84,
   "id": "981afe6e",
   "metadata": {},
   "outputs": [
    {
     "name": "stdout",
     "output_type": "stream",
     "text": [
      "0\n",
      "1\n",
      "2\n",
      "3\n",
      "4\n",
      "Done\n"
     ]
    }
   ],
   "source": [
    "# Exercise 10: Display message “Done” after successful loop execution\n",
    "\n",
    "for i in range(5):\n",
    "    print(i)\n",
    "print(\"Done\")"
   ]
  },
  {
   "cell_type": "code",
   "execution_count": null,
   "id": "675249e3",
   "metadata": {},
   "outputs": [
    {
     "name": "stdout",
     "output_type": "stream",
     "text": [
      "[29, 31, 37, 41, 43, 47]\n"
     ]
    }
   ],
   "source": [
    "# Exercise 11: Print all prime numbers within a range\n",
    "\n",
    "x, y = 25, 50  \n",
    "\n",
    "primes = [True] * (y + 1)\n",
    "\n",
    "primes[0], primes[1] = False, False\n",
    "\n",
    "for i in range(2, int(y ** 0.5) + 1):\n",
    "    if primes[i]:\n",
    "        for j in range(i * i, y + 1, i):\n",
    "            primes[j] = False\n",
    "\n",
    "res = [i for i in range(x, y + 1) if primes[i]]\n",
    "print(res if res else \"No\")"
   ]
  },
  {
   "cell_type": "code",
   "execution_count": 87,
   "id": "f81fb872",
   "metadata": {},
   "outputs": [
    {
     "name": "stdout",
     "output_type": "stream",
     "text": [
      "0\n",
      "1\n",
      "1\n",
      "2\n",
      "3\n",
      "5\n",
      "8\n",
      "13\n",
      "21\n",
      "34\n"
     ]
    }
   ],
   "source": [
    "# Exercise 12: Display Fibonacci series up to 10 terms\n",
    "\n",
    "terms = 10\n",
    "a, b = 0, 1\n",
    "\n",
    "for _ in range(terms):\n",
    "    print(a)\n",
    "    a, b = b, a + b\n"
   ]
  },
  {
   "cell_type": "code",
   "execution_count": null,
   "id": "4cd9f7bb",
   "metadata": {},
   "outputs": [
    {
     "name": "stdout",
     "output_type": "stream",
     "text": [
      "120\n"
     ]
    }
   ],
   "source": [
    "# Exercise 13: Find the factorial of a given number\n",
    "\n",
    "\n",
    "n = 5\n",
    "fact = 1\n",
    "\n",
    "for i in range(1, n + 1):\n",
    "    fact *= i\n",
    "\n",
    "print(fact)"
   ]
  },
  {
   "cell_type": "markdown",
   "id": "6ebd79a8",
   "metadata": {},
   "source": [
    "4. Return Uncommon Elements of Lists\n"
   ]
  },
  {
   "cell_type": "code",
   "execution_count": 96,
   "id": "c5d23bfe",
   "metadata": {},
   "outputs": [
    {
     "name": "stdout",
     "output_type": "stream",
     "text": [
      "[2, 2, 5]\n"
     ]
    }
   ],
   "source": [
    "# Exercise 1: Return Uncommon Elements of Lists\n",
    "\n",
    "\n",
    "list1 = [1, 1, 2, 3, 4, 2]\n",
    "list2 = [1, 3, 4, 5]\n",
    "\n",
    "set1 = set(list1)\n",
    "set2 = set(list2)\n",
    "\n",
    "common = set1.intersection(set2)\n",
    "\n",
    "unique1 = [x for x in list1 if x not in common]\n",
    "\n",
    "unique2 = [x for x in list2 if x not in common]\n",
    "\n",
    "result = unique1 + unique2\n",
    "print(result)\n",
    "\n",
    "\n"
   ]
  }
 ],
 "metadata": {
  "kernelspec": {
   "display_name": "Python 3",
   "language": "python",
   "name": "python3"
  },
  "language_info": {
   "codemirror_mode": {
    "name": "ipython",
    "version": 3
   },
   "file_extension": ".py",
   "mimetype": "text/x-python",
   "name": "python",
   "nbconvert_exporter": "python",
   "pygments_lexer": "ipython3",
   "version": "3.12.9"
  }
 },
 "nbformat": 4,
 "nbformat_minor": 5
}

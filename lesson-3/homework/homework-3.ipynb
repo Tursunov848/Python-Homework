{
 "cells": [
  {
   "cell_type": "markdown",
   "id": "dcead6eb",
   "metadata": {},
   "source": [
    "### Homework-3\n"
   ]
  },
  {
   "cell_type": "code",
   "execution_count": null,
   "id": "b20ef152",
   "metadata": {},
   "outputs": [
    {
     "name": "stdout",
     "output_type": "stream",
     "text": [
      "Pineapple\n"
     ]
    }
   ],
   "source": [
    "# Task 1 - Create and Access List Elements\n",
    "\n",
    "\n",
    "txt_list = ['Apple', 'Banana', 'Pineapple', 'Pear', 'Strawberry']\n",
    "\n",
    "print(txt_list[2])"
   ]
  },
  {
   "cell_type": "code",
   "execution_count": null,
   "id": "aa1e961d",
   "metadata": {},
   "outputs": [
    {
     "name": "stdout",
     "output_type": "stream",
     "text": [
      "[1, 2, 3, 2, 3, 4]\n"
     ]
    }
   ],
   "source": [
    "# Task 2 - Concatenate Two Lists\n",
    "\n",
    "first_list = [1, 2, 3]\n",
    "sec_list = [2, 3, 4]\n",
    "\n",
    "full_list = first_list + sec_list\n",
    "print(full_list)"
   ]
  },
  {
   "cell_type": "code",
   "execution_count": null,
   "id": "e73af929",
   "metadata": {},
   "outputs": [
    {
     "name": "stdout",
     "output_type": "stream",
     "text": [
      "1 3 5\n"
     ]
    }
   ],
   "source": [
    "# Task 3 - Extract Elements from a List\n",
    "\n",
    "numbers = [1, 2, 3, 4, 5]\n",
    "\n",
    "first = numbers[0]\n",
    "middle = numbers[len(numbers) // 2]\n",
    "last = numbers[-1]\n",
    "\n",
    "full = f'{first} {middle} {last}'\n",
    "print(full)"
   ]
  },
  {
   "cell_type": "code",
   "execution_count": null,
   "id": "d45e1855",
   "metadata": {},
   "outputs": [
    {
     "name": "stdout",
     "output_type": "stream",
     "text": [
      "('Avengers', 'Qaynana va kelin', 'Xorlangan kelin', 'Qudalar dardi', 'Qoqilib olib qolgan kelin')\n"
     ]
    }
   ],
   "source": [
    "# Task 4 - Convert List to Tuple\n",
    "\n",
    "fav_movies = ['Avengers', 'Qaynana va kelin', 'Xorlangan kelin', 'Qudalar dardi', 'Qoqilib olib qolgan kelin']\n",
    "\n",
    "tup = tuple(fav_movies)\n",
    "print(tup)"
   ]
  },
  {
   "cell_type": "code",
   "execution_count": null,
   "id": "6648bdf0",
   "metadata": {},
   "outputs": [
    {
     "name": "stdout",
     "output_type": "stream",
     "text": [
      "Paris\n"
     ]
    }
   ],
   "source": [
    "# Task 5 - Check Element in a List\n",
    "\n",
    "cities = ['Tashkent', 'Berlin', 'Paris', 'Chorsu']\n",
    "\n",
    "if 'Paris' in cities:\n",
    "    print('Paris')\n",
    "else:\n",
    "    print('Not in the list')"
   ]
  },
  {
   "cell_type": "code",
   "execution_count": null,
   "id": "dd3c6b29",
   "metadata": {},
   "outputs": [
    {
     "name": "stdout",
     "output_type": "stream",
     "text": [
      "[1, 2, 3, 4, 5, 1, 2, 3, 4, 5]\n"
     ]
    }
   ],
   "source": [
    "# Task 6 - Duplicate a List Without Using Loops\n",
    "\n",
    "numbers = [1, 2, 3, 4, 5]\n",
    "dup = numbers * 2\n",
    "print(dup)"
   ]
  },
  {
   "cell_type": "code",
   "execution_count": null,
   "id": "0f2b40f2",
   "metadata": {},
   "outputs": [
    {
     "name": "stdout",
     "output_type": "stream",
     "text": [
      "[5, 2, 3, 4, 1]\n"
     ]
    }
   ],
   "source": [
    "# Task 7 - Swap First and Last Elements of a List\n",
    "\n",
    "numbers = [1, 2, 3, 4, 5]\n",
    "\n",
    "numbers[0], numbers[-1] = numbers[-1], numbers[0]\n",
    "print(numbers)\n"
   ]
  },
  {
   "cell_type": "code",
   "execution_count": null,
   "id": "66a77b38",
   "metadata": {},
   "outputs": [
    {
     "name": "stdout",
     "output_type": "stream",
     "text": [
      "(4, 5, 6, 7, 8)\n"
     ]
    }
   ],
   "source": [
    "#  Task 8 - Slice a Tuple\n",
    "\n",
    "numbers = 1, 2, 3, 4, 5, 6, 7, 8, 9, 10\n",
    "print(numbers[3:8])"
   ]
  },
  {
   "cell_type": "code",
   "execution_count": null,
   "id": "3d02df02",
   "metadata": {},
   "outputs": [
    {
     "name": "stdout",
     "output_type": "stream",
     "text": [
      "2\n"
     ]
    }
   ],
   "source": [
    "# Task 9 - Count Occurrences in a List\n",
    "\n",
    "\n",
    "colors = ['Blue', 'Yellow', 'Green', 'Blue']\n",
    "\n",
    "print(colors.count('Blue'))"
   ]
  },
  {
   "cell_type": "code",
   "execution_count": null,
   "id": "784907bd",
   "metadata": {},
   "outputs": [
    {
     "name": "stdout",
     "output_type": "stream",
     "text": [
      "2\n"
     ]
    }
   ],
   "source": [
    "# Task 10 - Find the Index of an Element in a Tuple\n",
    "\n",
    "Animals = 'Snake', 'Mouse', 'Lion', 'Wolf'\n",
    "\n",
    "print(Animals.index('Lion'))"
   ]
  },
  {
   "cell_type": "code",
   "execution_count": null,
   "id": "ebfac997",
   "metadata": {},
   "outputs": [
    {
     "name": "stdout",
     "output_type": "stream",
     "text": [
      "(1, 2, 3, 2, 3, 4)\n"
     ]
    }
   ],
   "source": [
    "# Task 11 - Merge Two Tuples\n",
    "n1_tup = 1, 2, 3\n",
    "n2_tup = 2, 3, 4\n",
    "\n",
    "full_tup = n1_tup + n2_tup\n",
    "print(full_tup)"
   ]
  },
  {
   "cell_type": "code",
   "execution_count": null,
   "id": "bb1c2a33",
   "metadata": {},
   "outputs": [
    {
     "name": "stdout",
     "output_type": "stream",
     "text": [
      "1\n",
      "2\n"
     ]
    }
   ],
   "source": [
    "# Task 12 - Find the Length of a List and Tuple\n",
    "\n",
    "\n",
    "list_txt = ['f24 sila']\n",
    "tuple_txt = ('birnima', 'xullas')\n",
    "\n",
    "print(len(list_txt))\n",
    "print(len(tuple_txt))"
   ]
  },
  {
   "cell_type": "code",
   "execution_count": null,
   "id": "e77f4b87",
   "metadata": {},
   "outputs": [
    {
     "name": "stdout",
     "output_type": "stream",
     "text": [
      "[1, 2, 3, 4]\n"
     ]
    }
   ],
   "source": [
    "# Task 13 - Convert Tuple to List\n",
    "\n",
    "numbers_tup = 1, 2, 3, 4\n",
    "\n",
    "list_n = list(numbers_tup)\n",
    "print(list_n)"
   ]
  },
  {
   "cell_type": "code",
   "execution_count": 2,
   "id": "9d0408fc",
   "metadata": {},
   "outputs": [
    {
     "name": "stdout",
     "output_type": "stream",
     "text": [
      "1\n",
      "4\n"
     ]
    }
   ],
   "source": [
    "# Task 14 - Find Maximum and Minimum in a Tuple\n",
    "\n",
    "tup_num = 1, 2, 3, 4\n",
    "min_v = min(tup_num)\n",
    "max_v = max(tup_num)\n",
    "\n",
    "print(min_v)\n",
    "print(max_v)"
   ]
  },
  {
   "cell_type": "code",
   "execution_count": 8,
   "id": "7630f396",
   "metadata": {},
   "outputs": [
    {
     "name": "stdout",
     "output_type": "stream",
     "text": [
      "('Salom', 'Hello')\n"
     ]
    }
   ],
   "source": [
    "# Task 15 - Reverse a Tuple\n",
    "# Create a tuple of words and print it in reverse order.\n",
    "\n",
    "txt_tup = 'Hello', 'Salom'\n",
    "\n",
    "tup_rev = txt_tup[::-1]\n",
    "print(tup_rev)"
   ]
  }
 ],
 "metadata": {
  "kernelspec": {
   "display_name": "Python 3",
   "language": "python",
   "name": "python3"
  },
  "language_info": {
   "codemirror_mode": {
    "name": "ipython",
    "version": 3
   },
   "file_extension": ".py",
   "mimetype": "text/x-python",
   "name": "python",
   "nbconvert_exporter": "python",
   "pygments_lexer": "ipython3",
   "version": "3.12.9"
  }
 },
 "nbformat": 4,
 "nbformat_minor": 5
}

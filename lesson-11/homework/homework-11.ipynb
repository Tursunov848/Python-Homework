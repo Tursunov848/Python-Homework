{
 "cells": [
  {
   "cell_type": "code",
   "execution_count": null,
   "id": "9edd31ce",
   "metadata": {},
   "outputs": [],
   "source": [
    "# Task 1 - Create your own virtual environment and install some python packages.\n",
    "\n",
    "# First, I made sure that Python was already installed on my system by running python --version in the Command Prompt. Once I confirmed it was installed, I navigated to the folder where I wanted to keep my project using the cd command. After that, I created a virtual environment by typing python -m venv venv — this basically set up an isolated Python environment in a folder named \"venv\" within my project directory. Once the environment was created, I activated it using venv\\Scripts\\activate, and I could tell it worked because the command line showed the environment name in parentheses at the start of the prompt. Then, while inside the virtual environment, I used pip install to add the packages I needed — for example, pip install pandas numpy matplotlib to install popular data-related libraries. If I ever want to deactivate the virtual environment, I just type deactivate. That's it — now I have a clean, isolated setup for working on my Python project without affecting the global Python installation."
   ]
  },
  {
   "cell_type": "code",
   "execution_count": null,
   "id": "a0eea919",
   "metadata": {},
   "outputs": [
    {
     "name": "stdout",
     "output_type": "stream",
     "text": [
      "8\n",
      "15\n"
     ]
    }
   ],
   "source": [
    "# Task 2 - Create custom modules\n",
    "\n",
    "# math_operations.py\n",
    "\n",
    "import math_operations\n",
    "print(add(5, 3))\n",
    "print(multiply(5, 3))\n",
    "\n",
    "\n"
   ]
  },
  {
   "cell_type": "code",
   "execution_count": 14,
   "id": "d12fc042",
   "metadata": {},
   "outputs": [
    {
     "name": "stdout",
     "output_type": "stream",
     "text": [
      "olleh\n",
      "2\n"
     ]
    }
   ],
   "source": [
    "# string_utils.py\n",
    "\n",
    "import string_utils\n",
    "\n",
    "print(string_utils.reverse_string(\"hello\"))\n",
    "print(string_utils.count_vowels(\"hello\"))\n",
    "\n"
   ]
  },
  {
   "cell_type": "code",
   "execution_count": null,
   "id": "6f4de87a",
   "metadata": {},
   "outputs": [],
   "source": [
    "# Task 3 - Create custom packages\n",
    "\n",
    "# First, I created a folder named geometry, and inside it, I added an empty __init__.py file to make it a Python package. Then I created a circle.py module in the same folder and wrote two functions: calculate_area and calculate_circumference, both of which take the radius as input.\n",
    "\n",
    "# Next, I created another package called file_operations, with its own __init__.py file. Inside it, I created two modules: file_reader.py and file_writer.py. In file_reader.py, I wrote a read_file function that takes a file path and returns its contents. In file_writer.py, I defined a write_file function that takes a file path and some content and writes that content to the file."
   ]
  }
 ],
 "metadata": {
  "kernelspec": {
   "display_name": "Python 3",
   "language": "python",
   "name": "python3"
  },
  "language_info": {
   "codemirror_mode": {
    "name": "ipython",
    "version": 3
   },
   "file_extension": ".py",
   "mimetype": "text/x-python",
   "name": "python",
   "nbconvert_exporter": "python",
   "pygments_lexer": "ipython3",
   "version": "3.12.9"
  }
 },
 "nbformat": 4,
 "nbformat_minor": 5
}

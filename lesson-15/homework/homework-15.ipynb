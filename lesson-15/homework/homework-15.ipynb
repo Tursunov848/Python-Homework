{
 "cells": [
  {
   "cell_type": "code",
   "execution_count": 11,
   "id": "0065b597",
   "metadata": {},
   "outputs": [
    {
     "name": "stdout",
     "output_type": "stream",
     "text": [
      "Name: Kira Nerys, Age: 29\n"
     ]
    }
   ],
   "source": [
    "import sqlite3\n",
    "\n",
    "conn = sqlite3.connect('database1.db')\n",
    "cursor = conn.cursor()\n",
    "\n",
    "cursor.execute('''\n",
    "CREATE TABLE Roster (\n",
    "    Name TEXT,\n",
    "    Species TEXT,\n",
    "    Age INTEGER\n",
    ")\n",
    "''')\n",
    "\n",
    "cursor.executemany('INSERT INTO Roster (Name, Species, Age) VALUES (?, ?, ?)', [\n",
    "    ('Benjamin Sisko', 'Human', 40),\n",
    "    ('Jadzia Dax', 'Trill', 300),\n",
    "    ('Kira Nerys', 'Bajoran', 29)\n",
    "])\n",
    "\n",
    "cursor.execute('UPDATE Roster SET Name = ? WHERE Name = ?', ('Ezri Dax', 'Jadzia Dax'))\n",
    "\n",
    "cursor.execute('SELECT Name, Age FROM Roster WHERE Species = \"Bajoran\"')\n",
    "results = cursor.fetchall()\n",
    "\n",
    "for name, age in results:\n",
    "    print(f\"Name: {name}, Age: {age}\")\n",
    "\n",
    "conn.close()\n"
   ]
  }
 ],
 "metadata": {
  "kernelspec": {
   "display_name": "Python 3",
   "language": "python",
   "name": "python3"
  },
  "language_info": {
   "codemirror_mode": {
    "name": "ipython",
    "version": 3
   },
   "file_extension": ".py",
   "mimetype": "text/x-python",
   "name": "python",
   "nbconvert_exporter": "python",
   "pygments_lexer": "ipython3",
   "version": "3.12.9"
  }
 },
 "nbformat": 4,
 "nbformat_minor": 5
}
